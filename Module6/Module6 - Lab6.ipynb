{
 "cells": [
  {
   "cell_type": "markdown",
   "metadata": {},
   "source": [
    "# DAT210x - Programming with Python for DS"
   ]
  },
  {
   "cell_type": "markdown",
   "metadata": {},
   "source": [
    "## Module6- Lab6"
   ]
  },
  {
   "cell_type": "code",
   "execution_count": 1,
   "metadata": {
    "collapsed": true
   },
   "outputs": [],
   "source": [
    "import pandas as pd\n",
    "import time"
   ]
  },
  {
   "cell_type": "markdown",
   "metadata": {
    "collapsed": true
   },
   "source": [
    "### How to Get The Dataset"
   ]
  },
  {
   "cell_type": "markdown",
   "metadata": {
    "collapsed": true
   },
   "source": [
    "Grab the DLA HAR dataset from:\n",
    "\n",
    "- http://groupware.les.inf.puc-rio.br/har\n",
    "- http://groupware.les.inf.puc-rio.br/static/har/dataset-har-PUC-Rio-ugulino.zip\n",
    "- A cached copy of the dataset is included in the course repository.\n",
    "\n",
    "After extracting it out, load up the dataset into dataframe named `X` and do your regular dataframe examination:"
   ]
  },
  {
   "cell_type": "code",
   "execution_count": 2,
   "metadata": {},
   "outputs": [
    {
     "name": "stderr",
     "output_type": "stream",
     "text": [
      "C:\\Users\\ferryto\\AppData\\Local\\Continuum\\Anaconda2\\lib\\site-packages\\IPython\\core\\interactiveshell.py:2717: DtypeWarning: Columns (17) have mixed types. Specify dtype option on import or set low_memory=False.\n",
      "  interactivity=interactivity, compiler=compiler, result=result)\n"
     ]
    }
   ],
   "source": [
    "X = pd.read_csv('Datasets/dataset-har-PUC-Rio-ugulino.csv',delimiter=';')"
   ]
  },
  {
   "cell_type": "markdown",
   "metadata": {},
   "source": [
    "Encode the gender column such that: `0` is male, and `1` as female:"
   ]
  },
  {
   "cell_type": "code",
   "execution_count": 3,
   "metadata": {},
   "outputs": [],
   "source": [
    "X.drop('gender',axis=1,inplace=True)\n",
    "#X.gender = X.gender.map({'Man':0, 'Woman':1})\n",
    "#X.gender = pd.get_dummies(X.gender)\n",
    "#print(X.gender.unique())"
   ]
  },
  {
   "cell_type": "markdown",
   "metadata": {},
   "source": [
    "Clean up any columns with commas in them so that they're properly represented as decimals:"
   ]
  },
  {
   "cell_type": "code",
   "execution_count": 4,
   "metadata": {},
   "outputs": [],
   "source": [
    "X['how_tall_in_meters'].replace({',':'.'}, regex=True, inplace=True)\n",
    "X['body_mass_index'].replace({',':'.'}, regex=True, inplace=True)"
   ]
  },
  {
   "cell_type": "markdown",
   "metadata": {},
   "source": [
    "Let's take a peek at your data types:"
   ]
  },
  {
   "cell_type": "code",
   "execution_count": 5,
   "metadata": {},
   "outputs": [
    {
     "data": {
      "text/plain": [
       "user                  object\n",
       "age                    int64\n",
       "how_tall_in_meters    object\n",
       "weight                 int64\n",
       "body_mass_index       object\n",
       "x1                     int64\n",
       "y1                     int64\n",
       "z1                     int64\n",
       "x2                     int64\n",
       "y2                     int64\n",
       "z2                     int64\n",
       "x3                     int64\n",
       "y3                     int64\n",
       "z3                     int64\n",
       "x4                     int64\n",
       "y4                     int64\n",
       "z4                    object\n",
       "class                 object\n",
       "dtype: object"
      ]
     },
     "execution_count": 5,
     "metadata": {},
     "output_type": "execute_result"
    }
   ],
   "source": [
    "X.dtypes"
   ]
  },
  {
   "cell_type": "markdown",
   "metadata": {},
   "source": [
    "Convert any column that needs to be converted into numeric use `errors='raise'`. This will alert you if something ends up being problematic."
   ]
  },
  {
   "cell_type": "code",
   "execution_count": 6,
   "metadata": {
    "collapsed": true
   },
   "outputs": [],
   "source": [
    "X['how_tall_in_meters'] = pd.to_numeric(X['how_tall_in_meters'], errors='raise')\n",
    "X['body_mass_index'] = pd.to_numeric(X['body_mass_index'], errors='raise')\n",
    "X.z4 = pd.to_numeric(X.z4, errors='coerce')"
   ]
  },
  {
   "cell_type": "markdown",
   "metadata": {},
   "source": [
    "If you find any problematic records, drop them before calling the `to_numeric` methods above."
   ]
  },
  {
   "cell_type": "markdown",
   "metadata": {
    "collapsed": true
   },
   "source": [
    "Okay, now encode your `y` value as a Pandas dummies version of your dataset's `class` column:"
   ]
  },
  {
   "cell_type": "code",
   "execution_count": 7,
   "metadata": {},
   "outputs": [
    {
     "name": "stdout",
     "output_type": "stream",
     "text": [
      "user                  False\n",
      "age                   False\n",
      "how_tall_in_meters    False\n",
      "weight                False\n",
      "body_mass_index       False\n",
      "x1                    False\n",
      "y1                    False\n",
      "z1                    False\n",
      "x2                    False\n",
      "y2                    False\n",
      "z2                    False\n",
      "x3                    False\n",
      "y3                    False\n",
      "z3                    False\n",
      "x4                    False\n",
      "y4                    False\n",
      "z4                     True\n",
      "class                 False\n",
      "dtype: bool\n"
     ]
    }
   ],
   "source": [
    "print(X.isnull().any())\n",
    "X.dropna(axis=0, inplace=True)\n",
    "y = X['class'].astype(\"category\").cat.codes\n",
    "#y = pd.get_dummies(X['class'])\n",
    "#print(y)"
   ]
  },
  {
   "cell_type": "markdown",
   "metadata": {
    "collapsed": true
   },
   "source": [
    "In fact, get rid of the `user` and `class` columns:"
   ]
  },
  {
   "cell_type": "code",
   "execution_count": 8,
   "metadata": {},
   "outputs": [
    {
     "name": "stdout",
     "output_type": "stream",
     "text": [
      "<class 'pandas.core.frame.DataFrame'>\n",
      "Int64Index: 165632 entries, 0 to 165632\n",
      "Data columns (total 16 columns):\n",
      "age                   165632 non-null int64\n",
      "how_tall_in_meters    165632 non-null float64\n",
      "weight                165632 non-null int64\n",
      "body_mass_index       165632 non-null float64\n",
      "x1                    165632 non-null int64\n",
      "y1                    165632 non-null int64\n",
      "z1                    165632 non-null int64\n",
      "x2                    165632 non-null int64\n",
      "y2                    165632 non-null int64\n",
      "z2                    165632 non-null int64\n",
      "x3                    165632 non-null int64\n",
      "y3                    165632 non-null int64\n",
      "z3                    165632 non-null int64\n",
      "x4                    165632 non-null int64\n",
      "y4                    165632 non-null int64\n",
      "z4                    165632 non-null float64\n",
      "dtypes: float64(3), int64(13)\n",
      "memory usage: 21.5 MB\n",
      "None\n"
     ]
    }
   ],
   "source": [
    "X.drop(['class','user'],axis=1,inplace=True)\n",
    "print(X.info())"
   ]
  },
  {
   "cell_type": "markdown",
   "metadata": {},
   "source": [
    "Let's take a look at your handy-work:"
   ]
  },
  {
   "cell_type": "code",
   "execution_count": 9,
   "metadata": {},
   "outputs": [
    {
     "data": {
      "text/html": [
       "<div>\n",
       "<style>\n",
       "    .dataframe thead tr:only-child th {\n",
       "        text-align: right;\n",
       "    }\n",
       "\n",
       "    .dataframe thead th {\n",
       "        text-align: left;\n",
       "    }\n",
       "\n",
       "    .dataframe tbody tr th {\n",
       "        vertical-align: top;\n",
       "    }\n",
       "</style>\n",
       "<table border=\"1\" class=\"dataframe\">\n",
       "  <thead>\n",
       "    <tr style=\"text-align: right;\">\n",
       "      <th></th>\n",
       "      <th>age</th>\n",
       "      <th>how_tall_in_meters</th>\n",
       "      <th>weight</th>\n",
       "      <th>body_mass_index</th>\n",
       "      <th>x1</th>\n",
       "      <th>y1</th>\n",
       "      <th>z1</th>\n",
       "      <th>x2</th>\n",
       "      <th>y2</th>\n",
       "      <th>z2</th>\n",
       "      <th>x3</th>\n",
       "      <th>y3</th>\n",
       "      <th>z3</th>\n",
       "      <th>x4</th>\n",
       "      <th>y4</th>\n",
       "      <th>z4</th>\n",
       "    </tr>\n",
       "  </thead>\n",
       "  <tbody>\n",
       "    <tr>\n",
       "      <th>count</th>\n",
       "      <td>165632.000000</td>\n",
       "      <td>165632.000000</td>\n",
       "      <td>165632.000000</td>\n",
       "      <td>165632.000000</td>\n",
       "      <td>165632.000000</td>\n",
       "      <td>165632.000000</td>\n",
       "      <td>165632.000000</td>\n",
       "      <td>165632.000000</td>\n",
       "      <td>165632.000000</td>\n",
       "      <td>165632.000000</td>\n",
       "      <td>165632.000000</td>\n",
       "      <td>165632.000000</td>\n",
       "      <td>165632.000000</td>\n",
       "      <td>165632.000000</td>\n",
       "      <td>165632.000000</td>\n",
       "      <td>165632.000000</td>\n",
       "    </tr>\n",
       "    <tr>\n",
       "      <th>mean</th>\n",
       "      <td>38.264925</td>\n",
       "      <td>1.639712</td>\n",
       "      <td>70.819431</td>\n",
       "      <td>26.188535</td>\n",
       "      <td>-6.649319</td>\n",
       "      <td>88.293591</td>\n",
       "      <td>-93.164449</td>\n",
       "      <td>-87.827956</td>\n",
       "      <td>-52.065911</td>\n",
       "      <td>-175.055647</td>\n",
       "      <td>17.423517</td>\n",
       "      <td>104.517056</td>\n",
       "      <td>-93.881641</td>\n",
       "      <td>-167.641211</td>\n",
       "      <td>-92.625235</td>\n",
       "      <td>-159.650985</td>\n",
       "    </tr>\n",
       "    <tr>\n",
       "      <th>std</th>\n",
       "      <td>13.183821</td>\n",
       "      <td>0.052820</td>\n",
       "      <td>11.296557</td>\n",
       "      <td>2.995781</td>\n",
       "      <td>11.616273</td>\n",
       "      <td>23.895881</td>\n",
       "      <td>39.409487</td>\n",
       "      <td>169.435606</td>\n",
       "      <td>205.160081</td>\n",
       "      <td>192.817111</td>\n",
       "      <td>52.635546</td>\n",
       "      <td>54.155987</td>\n",
       "      <td>45.389770</td>\n",
       "      <td>38.311336</td>\n",
       "      <td>19.968653</td>\n",
       "      <td>13.221020</td>\n",
       "    </tr>\n",
       "    <tr>\n",
       "      <th>min</th>\n",
       "      <td>28.000000</td>\n",
       "      <td>1.580000</td>\n",
       "      <td>55.000000</td>\n",
       "      <td>22.000000</td>\n",
       "      <td>-306.000000</td>\n",
       "      <td>-271.000000</td>\n",
       "      <td>-603.000000</td>\n",
       "      <td>-494.000000</td>\n",
       "      <td>-517.000000</td>\n",
       "      <td>-617.000000</td>\n",
       "      <td>-499.000000</td>\n",
       "      <td>-506.000000</td>\n",
       "      <td>-613.000000</td>\n",
       "      <td>-702.000000</td>\n",
       "      <td>-526.000000</td>\n",
       "      <td>-537.000000</td>\n",
       "    </tr>\n",
       "    <tr>\n",
       "      <th>25%</th>\n",
       "      <td>28.000000</td>\n",
       "      <td>1.580000</td>\n",
       "      <td>55.000000</td>\n",
       "      <td>22.000000</td>\n",
       "      <td>-12.000000</td>\n",
       "      <td>78.000000</td>\n",
       "      <td>-120.000000</td>\n",
       "      <td>-35.000000</td>\n",
       "      <td>-29.000000</td>\n",
       "      <td>-141.000000</td>\n",
       "      <td>9.000000</td>\n",
       "      <td>95.000000</td>\n",
       "      <td>-103.000000</td>\n",
       "      <td>-190.000000</td>\n",
       "      <td>-103.000000</td>\n",
       "      <td>-167.000000</td>\n",
       "    </tr>\n",
       "    <tr>\n",
       "      <th>50%</th>\n",
       "      <td>31.000000</td>\n",
       "      <td>1.620000</td>\n",
       "      <td>75.000000</td>\n",
       "      <td>28.400000</td>\n",
       "      <td>-6.000000</td>\n",
       "      <td>94.000000</td>\n",
       "      <td>-98.000000</td>\n",
       "      <td>-9.000000</td>\n",
       "      <td>27.000000</td>\n",
       "      <td>-118.000000</td>\n",
       "      <td>22.000000</td>\n",
       "      <td>107.000000</td>\n",
       "      <td>-90.000000</td>\n",
       "      <td>-168.000000</td>\n",
       "      <td>-91.000000</td>\n",
       "      <td>-160.000000</td>\n",
       "    </tr>\n",
       "    <tr>\n",
       "      <th>75%</th>\n",
       "      <td>46.000000</td>\n",
       "      <td>1.710000</td>\n",
       "      <td>83.000000</td>\n",
       "      <td>28.600000</td>\n",
       "      <td>0.000000</td>\n",
       "      <td>101.000000</td>\n",
       "      <td>-64.000000</td>\n",
       "      <td>4.000000</td>\n",
       "      <td>86.000000</td>\n",
       "      <td>-29.000000</td>\n",
       "      <td>34.000000</td>\n",
       "      <td>120.000000</td>\n",
       "      <td>-80.000000</td>\n",
       "      <td>-153.000000</td>\n",
       "      <td>-80.000000</td>\n",
       "      <td>-153.000000</td>\n",
       "    </tr>\n",
       "    <tr>\n",
       "      <th>max</th>\n",
       "      <td>75.000000</td>\n",
       "      <td>1.710000</td>\n",
       "      <td>83.000000</td>\n",
       "      <td>28.600000</td>\n",
       "      <td>509.000000</td>\n",
       "      <td>533.000000</td>\n",
       "      <td>411.000000</td>\n",
       "      <td>473.000000</td>\n",
       "      <td>295.000000</td>\n",
       "      <td>122.000000</td>\n",
       "      <td>507.000000</td>\n",
       "      <td>517.000000</td>\n",
       "      <td>410.000000</td>\n",
       "      <td>-13.000000</td>\n",
       "      <td>86.000000</td>\n",
       "      <td>-43.000000</td>\n",
       "    </tr>\n",
       "  </tbody>\n",
       "</table>\n",
       "</div>"
      ],
      "text/plain": [
       "                 age  how_tall_in_meters         weight  body_mass_index  \\\n",
       "count  165632.000000       165632.000000  165632.000000    165632.000000   \n",
       "mean       38.264925            1.639712      70.819431        26.188535   \n",
       "std        13.183821            0.052820      11.296557         2.995781   \n",
       "min        28.000000            1.580000      55.000000        22.000000   \n",
       "25%        28.000000            1.580000      55.000000        22.000000   \n",
       "50%        31.000000            1.620000      75.000000        28.400000   \n",
       "75%        46.000000            1.710000      83.000000        28.600000   \n",
       "max        75.000000            1.710000      83.000000        28.600000   \n",
       "\n",
       "                  x1             y1             z1             x2  \\\n",
       "count  165632.000000  165632.000000  165632.000000  165632.000000   \n",
       "mean       -6.649319      88.293591     -93.164449     -87.827956   \n",
       "std        11.616273      23.895881      39.409487     169.435606   \n",
       "min      -306.000000    -271.000000    -603.000000    -494.000000   \n",
       "25%       -12.000000      78.000000    -120.000000     -35.000000   \n",
       "50%        -6.000000      94.000000     -98.000000      -9.000000   \n",
       "75%         0.000000     101.000000     -64.000000       4.000000   \n",
       "max       509.000000     533.000000     411.000000     473.000000   \n",
       "\n",
       "                  y2             z2             x3             y3  \\\n",
       "count  165632.000000  165632.000000  165632.000000  165632.000000   \n",
       "mean      -52.065911    -175.055647      17.423517     104.517056   \n",
       "std       205.160081     192.817111      52.635546      54.155987   \n",
       "min      -517.000000    -617.000000    -499.000000    -506.000000   \n",
       "25%       -29.000000    -141.000000       9.000000      95.000000   \n",
       "50%        27.000000    -118.000000      22.000000     107.000000   \n",
       "75%        86.000000     -29.000000      34.000000     120.000000   \n",
       "max       295.000000     122.000000     507.000000     517.000000   \n",
       "\n",
       "                  z3             x4             y4             z4  \n",
       "count  165632.000000  165632.000000  165632.000000  165632.000000  \n",
       "mean      -93.881641    -167.641211     -92.625235    -159.650985  \n",
       "std        45.389770      38.311336      19.968653      13.221020  \n",
       "min      -613.000000    -702.000000    -526.000000    -537.000000  \n",
       "25%      -103.000000    -190.000000    -103.000000    -167.000000  \n",
       "50%       -90.000000    -168.000000     -91.000000    -160.000000  \n",
       "75%       -80.000000    -153.000000     -80.000000    -153.000000  \n",
       "max       410.000000     -13.000000      86.000000     -43.000000  "
      ]
     },
     "execution_count": 9,
     "metadata": {},
     "output_type": "execute_result"
    }
   ],
   "source": [
    "X.describe()"
   ]
  },
  {
   "cell_type": "markdown",
   "metadata": {},
   "source": [
    "You can also easily display which rows have nans in them, if any:"
   ]
  },
  {
   "cell_type": "code",
   "execution_count": 10,
   "metadata": {},
   "outputs": [
    {
     "data": {
      "text/html": [
       "<div>\n",
       "<style>\n",
       "    .dataframe thead tr:only-child th {\n",
       "        text-align: right;\n",
       "    }\n",
       "\n",
       "    .dataframe thead th {\n",
       "        text-align: left;\n",
       "    }\n",
       "\n",
       "    .dataframe tbody tr th {\n",
       "        vertical-align: top;\n",
       "    }\n",
       "</style>\n",
       "<table border=\"1\" class=\"dataframe\">\n",
       "  <thead>\n",
       "    <tr style=\"text-align: right;\">\n",
       "      <th></th>\n",
       "      <th>age</th>\n",
       "      <th>how_tall_in_meters</th>\n",
       "      <th>weight</th>\n",
       "      <th>body_mass_index</th>\n",
       "      <th>x1</th>\n",
       "      <th>y1</th>\n",
       "      <th>z1</th>\n",
       "      <th>x2</th>\n",
       "      <th>y2</th>\n",
       "      <th>z2</th>\n",
       "      <th>x3</th>\n",
       "      <th>y3</th>\n",
       "      <th>z3</th>\n",
       "      <th>x4</th>\n",
       "      <th>y4</th>\n",
       "      <th>z4</th>\n",
       "    </tr>\n",
       "  </thead>\n",
       "  <tbody>\n",
       "  </tbody>\n",
       "</table>\n",
       "</div>"
      ],
      "text/plain": [
       "Empty DataFrame\n",
       "Columns: [age, how_tall_in_meters, weight, body_mass_index, x1, y1, z1, x2, y2, z2, x3, y3, z3, x4, y4, z4]\n",
       "Index: []"
      ]
     },
     "execution_count": 10,
     "metadata": {},
     "output_type": "execute_result"
    }
   ],
   "source": [
    "X[pd.isnull(X).any(axis=1)]"
   ]
  },
  {
   "cell_type": "markdown",
   "metadata": {},
   "source": [
    "Create an RForest classifier named `model` and set `n_estimators=30`, the `max_depth` to 10, `oob_score=True`, and `random_state=0`:"
   ]
  },
  {
   "cell_type": "code",
   "execution_count": 11,
   "metadata": {
    "collapsed": true
   },
   "outputs": [],
   "source": [
    "from sklearn.ensemble import RandomForestClassifier\n",
    "model = RandomForestClassifier(n_estimators=30,max_depth=10,oob_score=True,random_state=0)"
   ]
  },
  {
   "cell_type": "markdown",
   "metadata": {},
   "source": [
    "Split your data into `test` / `train` sets. Your `test` size can be 30%, with `random_state` 7. Use variable names: `X_train`, `X_test`, `y_train`, and `y_test`:"
   ]
  },
  {
   "cell_type": "code",
   "execution_count": 12,
   "metadata": {},
   "outputs": [],
   "source": [
    "from sklearn.model_selection import train_test_split\n",
    "X_train, X_test, y_train, y_test = train_test_split(X,y,test_size=0.3,random_state=7)"
   ]
  },
  {
   "cell_type": "markdown",
   "metadata": {},
   "source": [
    "### Now the Fun Stuff"
   ]
  },
  {
   "cell_type": "code",
   "execution_count": 13,
   "metadata": {},
   "outputs": [
    {
     "name": "stdout",
     "output_type": "stream",
     "text": [
      "Fitting...\n",
      "('Fitting completed in: ', 3.450000047683716)\n"
     ]
    }
   ],
   "source": [
    "print(\"Fitting...\")\n",
    "s = time.time()\n",
    "\n",
    "# TODO: train your model on your training set\n",
    "model.fit(X_train,y_train)\n",
    "# .. your code here ..\n",
    "\n",
    "print(\"Fitting completed in: \", time.time() - s)"
   ]
  },
  {
   "cell_type": "markdown",
   "metadata": {},
   "source": [
    "Display the OOB Score of your data:"
   ]
  },
  {
   "cell_type": "code",
   "execution_count": 14,
   "metadata": {},
   "outputs": [
    {
     "name": "stdout",
     "output_type": "stream",
     "text": [
      "('OOB Score: ', 97.379)\n"
     ]
    }
   ],
   "source": [
    "score = model.oob_score_\n",
    "print(\"OOB Score: \", round(score*100, 3))"
   ]
  },
  {
   "cell_type": "code",
   "execution_count": 15,
   "metadata": {},
   "outputs": [
    {
     "name": "stdout",
     "output_type": "stream",
     "text": [
      "Scoring...\n",
      "('Score: ', 97.517)\n",
      "('Scoring completed in: ', 0.19100022315979004)\n"
     ]
    }
   ],
   "source": [
    "print(\"Scoring...\")\n",
    "s = time.time()\n",
    "\n",
    "# TODO: score your model on your test set\n",
    "score = model.score(X_test,y_test)\n",
    "# .. your code here ..\n",
    "\n",
    "print(\"Score: \", round(score*100, 3))\n",
    "print(\"Scoring completed in: \", time.time() - s)"
   ]
  },
  {
   "cell_type": "markdown",
   "metadata": {},
   "source": [
    "At this point, go ahead and answer the lab questions, then return here to experiment more --"
   ]
  },
  {
   "cell_type": "markdown",
   "metadata": {},
   "source": [
    "Try playing around with the gender column. For example, encode `gender` `Male:1`, and `Female:0`. Also try encoding it as a Pandas dummies variable and seeing what changes that has. You can also try dropping gender entirely from the dataframe. How does that change the score of the model? This will be a key insight on how your feature encoding alters your overall scoring, and why it's important to choose good ones."
   ]
  },
  {
   "cell_type": "code",
   "execution_count": 16,
   "metadata": {
    "collapsed": true
   },
   "outputs": [],
   "source": [
    "# dropping the gender column largely increase OOB score, however it does drop a bit when y is encoded in 1 column "
   ]
  },
  {
   "cell_type": "markdown",
   "metadata": {},
   "source": [
    "After that, try messing with `y`. Right now its encoded with dummies, but try other encoding methods to what effects they have."
   ]
  },
  {
   "cell_type": "code",
   "execution_count": 17,
   "metadata": {
    "collapsed": true
   },
   "outputs": [],
   "source": [
    "# higher score achieved when y encoded in 1 column instaed of 4, but OOB score drops a bit"
   ]
  }
 ],
 "metadata": {
  "anaconda-cloud": {},
  "kernelspec": {
   "display_name": "Python 2",
   "language": "python",
   "name": "python2"
  },
  "language_info": {
   "codemirror_mode": {
    "name": "ipython",
    "version": 2
   },
   "file_extension": ".py",
   "mimetype": "text/x-python",
   "name": "python",
   "nbconvert_exporter": "python",
   "pygments_lexer": "ipython2",
   "version": "2.7.13"
  },
  "toc": {
   "colors": {
    "hover_highlight": "#DAA520",
    "running_highlight": "#FF0000",
    "selected_highlight": "#FFD700"
   },
   "moveMenuLeft": true,
   "nav_menu": {
    "height": "58px",
    "width": "252px"
   },
   "navigate_menu": true,
   "number_sections": true,
   "sideBar": true,
   "threshold": 4,
   "toc_cell": false,
   "toc_section_display": "block",
   "toc_window_display": false,
   "widenNotebook": false
  }
 },
 "nbformat": 4,
 "nbformat_minor": 2
}
