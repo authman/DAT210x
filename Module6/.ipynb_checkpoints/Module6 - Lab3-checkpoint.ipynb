{
 "cells": [
  {
   "cell_type": "markdown",
   "metadata": {},
   "source": [
    "# DAT210x - Programming with Python for DS"
   ]
  },
  {
   "cell_type": "markdown",
   "metadata": {},
   "source": [
    "## Module6- Lab3"
   ]
  },
  {
   "cell_type": "markdown",
   "metadata": {},
   "source": [
    "This code is intentionally missing! Read the directions on the course lab page!"
   ]
  },
  {
   "cell_type": "code",
   "execution_count": 2,
   "metadata": {},
   "outputs": [
    {
     "name": "stdout",
     "output_type": "stream",
     "text": [
      "Shape BEFORE PCA: X_train:(136, 22) X_test(59, 22)\n",
      "Q2 This will be a long run...\n",
      "(array([ 0.05,  0.1 ,  0.15,  0.2 ,  0.25,  0.3 ,  0.35,  0.4 ,  0.45,\n",
      "        0.5 ,  0.55,  0.6 ,  0.65,  0.7 ,  0.75,  0.8 ,  0.85,  0.9 ,\n",
      "        0.95,  1.  ,  1.05,  1.1 ,  1.15,  1.2 ,  1.25,  1.3 ,  1.35,\n",
      "        1.4 ,  1.45,  1.5 ,  1.55,  1.6 ,  1.65,  1.7 ,  1.75,  1.8 ,\n",
      "        1.85,  1.9 ,  1.95]), array([ 0.001,  0.002,  0.003,  0.004,  0.005,  0.006,  0.007,  0.008,\n",
      "        0.009,  0.01 ,  0.011,  0.012,  0.013,  0.014,  0.015,  0.016,\n",
      "        0.017,  0.018,  0.019,  0.02 ,  0.021,  0.022,  0.023,  0.024,\n",
      "        0.025,  0.026,  0.027,  0.028,  0.029,  0.03 ,  0.031,  0.032,\n",
      "        0.033,  0.034,  0.035,  0.036,  0.037,  0.038,  0.039,  0.04 ,\n",
      "        0.041,  0.042,  0.043,  0.044,  0.045,  0.046,  0.047,  0.048,\n",
      "        0.049,  0.05 ,  0.051,  0.052,  0.053,  0.054,  0.055,  0.056,\n",
      "        0.057,  0.058,  0.059,  0.06 ,  0.061,  0.062,  0.063,  0.064,\n",
      "        0.065,  0.066,  0.067,  0.068,  0.069,  0.07 ,  0.071,  0.072,\n",
      "        0.073,  0.074,  0.075,  0.076,  0.077,  0.078,  0.079,  0.08 ,\n",
      "        0.081,  0.082,  0.083,  0.084,  0.085,  0.086,  0.087,  0.088,\n",
      "        0.089,  0.09 ,  0.091,  0.092,  0.093,  0.094,  0.095,  0.096,\n",
      "        0.097,  0.098,  0.099]))\n",
      "NN:2 NC:4\n",
      "New best_score find: 0.796610169492 C=0.05 gamma=0.001 Isomap(neighbors=2,components=4)\n",
      "NN:3 NC:4\n",
      "NN:4 NC:4\n",
      "NN:5 NC:4\n",
      "NN:2 NC:5\n",
      "NN:3 NC:5\n",
      "NN:4 NC:5\n",
      "NN:5 NC:5\n",
      "NN:2 NC:6\n",
      "NN:3 NC:6\n",
      "NN:4 NC:6\n",
      "NN:5 NC:6\n",
      "('Final best_score:', 0.79661016949152541)\n"
     ]
    }
   ],
   "source": [
    "import pandas as pd\n",
    "import numpy as np\n",
    "import matplotlib.pyplot as plt\n",
    "from sklearn import svm\n",
    "\n",
    "X = pd.read_csv('Datasets/parkinsons.data', index_col='name')\n",
    "y = X['status'].copy()\n",
    "X.drop('status', axis=1, inplace=True)\n",
    "\n",
    "from sklearn.model_selection import train_test_split\n",
    "X_train, X_test, y_train, y_test = train_test_split(X,y,test_size=0.3,random_state=7)\n",
    "\n",
    "from sklearn import preprocessing\n",
    "#PCA 0.84745762711864403\n",
    "#ISO 0.79661016949152541\n",
    "preprocessor = preprocessing.Normalizer().fit(X_train) \n",
    "\n",
    "#PCA 0.9152542372881356\n",
    "#ISO 0.88135593220338981\n",
    "#preprocessor = preprocessing.MaxAbsScaler().fit(X_train) \n",
    "\n",
    "#PCA 0.94915254237288138\n",
    "#ISO 0.83050847457627119\n",
    "#preprocessor = preprocessing.MinMaxScaler().fit(X_train)  \n",
    "\n",
    "#PCA 0.9152542372881356\n",
    "#ISO 0.81355932203389836\n",
    "#preprocessor = preprocessing.KernelCenterer().fit(X_train) \n",
    "\n",
    "#PCA 0.949152542373\n",
    "#ISO 0.93220338983050843\n",
    "#preprocessor = preprocessing.StandardScaler().fit(X_train) \n",
    "X_train = preprocessor.transform(X_train)\n",
    "X_test = preprocessor.transform(X_test)\n",
    "print('Shape BEFORE PCA: X_train:{0} X_test{1}'.format(X_train.shape,X_test.shape))\n",
    "from sklearn.decomposition import PCA\n",
    "from sklearn import manifold\n",
    "\n",
    "from sklearn.svm import SVC\n",
    "#svc = SVC()\n",
    "#svc.fit(X_train, y_train)\n",
    "#score = svc.score(X_test, y_test)\n",
    "#print ('Q1 score:',score)\n",
    "\n",
    "print ('Q2 This will be a long run...')\n",
    "c_range = np.arange(0.05, 2, 0.05)\n",
    "gamma_range = np.arange(0.001, 0.1, 0.001)\n",
    "print (c_range, gamma_range)\n",
    "\n",
    "best_score = 0\n",
    "for NC in range(4,7):\n",
    "    for NN in range(2,6):\n",
    "    #for N in range(4,15):\n",
    "        #pca = PCA(n_components=4)\n",
    "        #pca.fit(X_train,y_train)\n",
    "        iso = manifold.Isomap(n_neighbors=NN, n_components=NC)\n",
    "        iso.fit(X_train,y_train)\n",
    "        X_train = iso.transform(X_train)\n",
    "        X_test = iso.transform(X_test)\n",
    "        print('NN:{0} NC:{1}'.format(NN,NC))\n",
    "        #print('N:{0}'.format(N))\n",
    "        for C in c_range:\n",
    "            for gamma in gamma_range:\n",
    "                svc = SVC(C=C, gamma=gamma, kernel='rbf')\n",
    "                svc.fit(X_train, y_train)\n",
    "                score = svc.score(X_test, y_test)\n",
    "                if score > best_score:\n",
    "                    best_score = score\n",
    "                    #print('New best_score find: {0} C={1} gamma={2} PCA({3})'.format(best_score, C, gamma, N))\n",
    "                    print('New best_score find: {0} C={1} gamma={2} Isomap(neighbors={3},components={4})'.format(best_score, C, gamma, NN, NC))\n",
    "print('Final best_score:', best_score)"
   ]
  },
  {
   "cell_type": "code",
   "execution_count": null,
   "metadata": {},
   "outputs": [],
   "source": [
    "0.89830508474576276 PCA"
   ]
  }
 ],
 "metadata": {
  "anaconda-cloud": {},
  "kernelspec": {
   "display_name": "Python 2",
   "language": "python",
   "name": "python2"
  },
  "language_info": {
   "codemirror_mode": {
    "name": "ipython",
    "version": 2
   },
   "file_extension": ".py",
   "mimetype": "text/x-python",
   "name": "python",
   "nbconvert_exporter": "python",
   "pygments_lexer": "ipython2",
   "version": "2.7.13"
  },
  "toc": {
   "colors": {
    "hover_highlight": "#DAA520",
    "running_highlight": "#FF0000",
    "selected_highlight": "#FFD700"
   },
   "moveMenuLeft": true,
   "nav_menu": {
    "height": "58px",
    "width": "252px"
   },
   "navigate_menu": true,
   "number_sections": true,
   "sideBar": true,
   "threshold": 4,
   "toc_cell": false,
   "toc_section_display": "block",
   "toc_window_display": false,
   "widenNotebook": false
  }
 },
 "nbformat": 4,
 "nbformat_minor": 2
}
