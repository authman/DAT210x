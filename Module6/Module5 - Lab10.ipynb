{
 "cells": [
  {
   "cell_type": "markdown",
   "metadata": {},
   "source": [
    "# DAT210x - Programming with Python for DS"
   ]
  },
  {
   "cell_type": "markdown",
   "metadata": {},
   "source": [
    "## Module5- Lab10"
   ]
  },
  {
   "cell_type": "code",
   "execution_count": 1,
   "metadata": {
    "collapsed": true
   },
   "outputs": [],
   "source": [
    "import numpy as np\n",
    "import pandas as pd\n",
    "\n",
    "from sklearn.utils.validation import check_random_state\n",
    "import scipy.io.wavfile as wavfile"
   ]
  },
  {
   "cell_type": "markdown",
   "metadata": {},
   "source": [
    "Good Luck! Heh."
   ]
  },
  {
   "cell_type": "markdown",
   "metadata": {},
   "source": [
    "### About Audio"
   ]
  },
  {
   "cell_type": "markdown",
   "metadata": {},
   "source": [
    "Samples are Observations. Each audio file will is a single sample in our dataset.\n",
    "\n",
    "Find more information about [Audio Samples here](https://en.wikipedia.org/wiki/Sampling_(signal_processing)).\n",
    "\n",
    "Each .wav file is actually just a bunch of numeric samples, \"sampled\" from the analog signal. Sampling is a type of discretization. When we mention 'samples', we mean observations. When we mention 'audio samples', we mean the actually \"features\" of the audio file.\n",
    "\n",
    "The goal of this lab is to use multi-target, linear regression to generate by extrapolation, the missing portion of the test audio file.\n",
    "\n",
    "Each one audio_sample features will be the output of an equation, which is a function of the provided portion of the audio_samples:\n",
    "\n",
    "    missing_samples = f(provided_samples)\n",
    "\n",
    "You can experiment with how much of the audio you want to chop off and have the computer generate using the Provided_Portion parameter."
   ]
  },
  {
   "cell_type": "markdown",
   "metadata": {},
   "source": [
    "Play with this. This is how much of the audio file will be provided, in percent. The remaining percent of the file will be generated via linear extrapolation."
   ]
  },
  {
   "cell_type": "code",
   "execution_count": 19,
   "metadata": {
    "collapsed": true
   },
   "outputs": [],
   "source": [
    "Provided_Portion = 0.25\n",
    "sample_rate = 8000"
   ]
  },
  {
   "cell_type": "markdown",
   "metadata": {
    "collapsed": true
   },
   "source": [
    "### The Assignment"
   ]
  },
  {
   "cell_type": "markdown",
   "metadata": {
    "collapsed": true
   },
   "source": [
    "You have to download the dataset (audio files) from the website: https://github.com/Jakobovski/free-spoken-digit-dataset"
   ]
  },
  {
   "cell_type": "markdown",
   "metadata": {},
   "source": [
    "Start by creating a regular Python List called `zero`:"
   ]
  },
  {
   "cell_type": "code",
   "execution_count": 3,
   "metadata": {
    "collapsed": true
   },
   "outputs": [],
   "source": [
    "zero = []"
   ]
  },
  {
   "cell_type": "markdown",
   "metadata": {},
   "source": [
    "Loop through the dataset and load up all 50 of the `0_jackson*.wav` files using the `wavfile.read()` method: https://docs.scipy.org/doc/scipy-0.14.0/reference/generated/scipy.io.wavfile.read.html Be careful! `.read()` returns a tuple and you're only interested in the audio data, and not sample_rate at this point. Inside your for loop, simply append the loaded audio data into your Python list `zero`:"
   ]
  },
  {
   "cell_type": "code",
   "execution_count": 4,
   "metadata": {
    "collapsed": true
   },
   "outputs": [],
   "source": [
    "for i in range(0,50):\n",
    "    w = wavfile.read('Datasets/recordings/0_jackson_'+str(i)+'.wav')\n",
    "    zero.append(w[1])"
   ]
  },
  {
   "cell_type": "markdown",
   "metadata": {},
   "source": [
    "Just for a second, convert zero into a DataFrame. When you do so, set the `dtype` to `np.int16`, since the input audio files are 16 bits per sample. If you don't know how to do this, read up on the docs here: http://pandas.pydata.org/pandas-docs/stable/generated/pandas.DataFrame.html\n",
    "\n",
    "Since these audio clips are unfortunately not length-normalized, we're going to have to just hard chop them to all be the same length. Since Pandas would have inserted NANs at any spot to make zero a  perfectly rectangular [n_observed_samples, n_audio_samples] array, do a `dropna` on the Y axis here. Then, convert one back into an NDArray using `yourarrayname.values`:"
   ]
  },
  {
   "cell_type": "code",
   "execution_count": 12,
   "metadata": {},
   "outputs": [
    {
     "name": "stdout",
     "output_type": "stream",
     "text": [
      "   0     1     2     3     4     5     6     7     8     9     ...   4077  \\\n",
      "0  -369  -431  -475  -543  -571  -557  -528  -455  -394  -305  ...   2475   \n",
      "1  -311   -91  -140  -182  -271   -68  -235  -359  -129  -198  ...   -122   \n",
      "2  -361  -226  -238  -478  -425  -395  -663  -879  -726  -997  ...   -141   \n",
      "3   323   338   357   388   381   393   391   378   348   313  ...   1323   \n",
      "4  -302  -312  -103  -305  -145  -339    12  -433  -141  -189  ...    189   \n",
      "\n",
      "   4078  4079  4080  4081  4082  4083  4084  4085  4086  \n",
      "0  2500  2331  1786  1057   358   158  -108  -402  -884  \n",
      "1  -207  -266  -276  -316  -359  -396  -422  -462  -460  \n",
      "2   -83     0    71   165   284   325   378   416   438  \n",
      "3  1321  1211   827   292  -244  -779 -1241 -1369 -1229  \n",
      "4   211   189   134   150   224   265   313   328   327  \n",
      "\n",
      "[5 rows x 4087 columns]\n",
      "   0     1     2     3     4     5     6     7     8     9     ...   4077  \\\n",
      "0  -369  -431  -475  -543  -571  -557  -528  -455  -394  -305  ...   2475   \n",
      "1  -311   -91  -140  -182  -271   -68  -235  -359  -129  -198  ...   -122   \n",
      "2  -361  -226  -238  -478  -425  -395  -663  -879  -726  -997  ...   -141   \n",
      "3   323   338   357   388   381   393   391   378   348   313  ...   1323   \n",
      "4  -302  -312  -103  -305  -145  -339    12  -433  -141  -189  ...    189   \n",
      "\n",
      "   4078  4079  4080  4081  4082  4083  4084  4085  4086  \n",
      "0  2500  2331  1786  1057   358   158  -108  -402  -884  \n",
      "1  -207  -266  -276  -316  -359  -396  -422  -462  -460  \n",
      "2   -83     0    71   165   284   325   378   416   438  \n",
      "3  1321  1211   827   292  -244  -779 -1241 -1369 -1229  \n",
      "4   211   189   134   150   224   265   313   328   327  \n",
      "\n",
      "[5 rows x 4087 columns]\n",
      "(50, 4087)\n"
     ]
    }
   ],
   "source": [
    "zero = pd.DataFrame(zero, dtype=np.int16)\n",
    "print zero.head()\n",
    "zero.dropna(axis=1,inplace=True) \n",
    "print zero.head()\n",
    "print zero.shape"
   ]
  },
  {
   "cell_type": "markdown",
   "metadata": {},
   "source": [
    "It's important to know how (many audio_samples samples) long the data is now.\n",
    "\n",
    "`zero` is currently shaped like `[n_samples, n_audio_samples]`, so get the `n_audio_samples` count and store it in a variable called `n_audio_samples`:"
   ]
  },
  {
   "cell_type": "code",
   "execution_count": 17,
   "metadata": {},
   "outputs": [
    {
     "name": "stdout",
     "output_type": "stream",
     "text": [
      "('n_audio_samples', 4087)\n"
     ]
    }
   ],
   "source": [
    "#x.dropna(axis=1,inplace=True) \n",
    "n_audio_samples = len(zero.columns)\n",
    "print('n_audio_samples',n_audio_samples)\n",
    "#x = x.values\n",
    "\n",
    "#for s in range(0,len(x)):\n",
    "    \n",
    "#    print(np.unique(pd.isnull(x.loc[s])))\n",
    "#    print(len(x.loc[s]))\n"
   ]
  },
  {
   "cell_type": "markdown",
   "metadata": {},
   "source": [
    "Create your linear regression model here and store it in a variable called `model`. Don't actually train or do anything else with it yet:"
   ]
  },
  {
   "cell_type": "code",
   "execution_count": 7,
   "metadata": {
    "collapsed": true
   },
   "outputs": [],
   "source": [
    "from sklearn import linear_model\n",
    "model = linear_model.LinearRegression()"
   ]
  },
  {
   "cell_type": "markdown",
   "metadata": {},
   "source": [
    "There are 50 takes of each clip. You want to pull out just one of them, randomly, and that one will NOT be used in the training of your model. In other words, the one file we'll be testing / scoring on will be an unseen sample, independent to the rest of your training set:"
   ]
  },
  {
   "cell_type": "code",
   "execution_count": 15,
   "metadata": {},
   "outputs": [
    {
     "name": "stdout",
     "output_type": "stream",
     "text": [
      "('rng: ', <mtrand.RandomState object at 0x11a6dd8c0>)\n",
      "('random_idx: ', 47)\n"
     ]
    }
   ],
   "source": [
    "# Leave this line alone until you've submitted your lab:\n",
    "rng = check_random_state(7)\n",
    "random_idx = rng.randint(zero.shape[0])\n",
    "print('random_idx: ', random_idx)\n",
    "test  = zero.loc[random_idx]\n",
    "#train = np.delete(zero, [random_idx], axis=0)\n",
    "train = zero.drop(zero.index[random_idx])"
   ]
  },
  {
   "cell_type": "markdown",
   "metadata": {},
   "source": [
    "Print out the shape of `train`, and the shape of `test`.\n",
    "\n",
    "`train` will be shaped: `[n_samples, n_audio_samples]`, where `n_audio_samples` are the 'features' of the audio file \n",
    "\n",
    "`test` will be shaped `[n_audio_features]`, since it is a single sample (audio file, e.g. observation)."
   ]
  },
  {
   "cell_type": "code",
   "execution_count": 16,
   "metadata": {},
   "outputs": [
    {
     "name": "stdout",
     "output_type": "stream",
     "text": [
      "0     -258\n",
      "1     -479\n",
      "2      577\n",
      "3     -604\n",
      "4      296\n",
      "5     -545\n",
      "6       43\n",
      "7      123\n",
      "8      -74\n",
      "9      275\n",
      "10      -6\n",
      "11      42\n",
      "12    -135\n",
      "13      70\n",
      "14    -751\n",
      "15     -74\n",
      "16     -15\n",
      "17    -949\n",
      "18    -154\n",
      "19    -648\n",
      "20    -188\n",
      "21     726\n",
      "22      58\n",
      "23    -503\n",
      "24       4\n",
      "25      46\n",
      "26      -6\n",
      "27    -291\n",
      "28    -633\n",
      "29    -659\n",
      "30    -298\n",
      "31    -604\n",
      "32     -28\n",
      "33    -348\n",
      "34    -358\n",
      "35    -360\n",
      "36      68\n",
      "37      60\n",
      "38    -546\n",
      "39    -123\n",
      "40      11\n",
      "41     531\n",
      "42    -967\n",
      "43      39\n",
      "44     668\n",
      "45   -1090\n",
      "46    -180\n",
      "47    -706\n",
      "48     826\n",
      "49     125\n",
      "Name: 47, dtype: int16\n",
      "('test: ', (4087,))\n",
      "('train: ', (49, 4087))\n"
     ]
    }
   ],
   "source": [
    "print('test: ',test.shape)\n",
    "print('train: ',train.shape)"
   ]
  },
  {
   "cell_type": "markdown",
   "metadata": {
    "collapsed": true
   },
   "source": [
    "The test data will have two parts, `X_test` and `y_test`.\n",
    "\n",
    "`X_test` is going to be the first portion of the test audio file, which we will be providing the computer as input. \n",
    "\n",
    "`y_test`, the \"label\" if you will, is going to be the remaining portion of the audio file. Like such, the computer will use linear regression to derive the missing portion of the sound file based off of the training data its received!\n",
    "\n",
    "Let's save the original `test` clip, the one you're about to delete half of, to the current directory so that you can compare it to the 'patched' clip once you've generated it. You should have already got the `sample_rate` when you were loading up the .wav files:"
   ]
  },
  {
   "cell_type": "code",
   "execution_count": 21,
   "metadata": {
    "collapsed": true
   },
   "outputs": [],
   "source": [
    "wavfile.write('Original Test Clip.wav', sample_rate, test.values)"
   ]
  },
  {
   "cell_type": "markdown",
   "metadata": {},
   "source": [
    "Prepare the TEST data by creating a slice called `X_test`. It should have `Provided_Portion` * `n_audio_samples` audio sample features, taken from your test audio file, currently stored in variable `test`. In other words, grab the FIRST `Provided_Portion` * `n_audio_samples` audio features from `test` and store it in `X_test`. This should be accomplished using indexing:"
   ]
  },
  {
   "cell_type": "code",
   "execution_count": 40,
   "metadata": {},
   "outputs": [
    {
     "name": "stdout",
     "output_type": "stream",
     "text": [
      "(1022,)\n",
      "(3065,)\n",
      "True\n"
     ]
    }
   ],
   "source": [
    "x_test = test.loc[:Provided_Portion*n_audio_samples]\n",
    "y_test = test.loc[Provided_Portion*n_audio_samples:]\n",
    "print x_test.shape\n",
    "print y_test.shape\n",
    "print len(x_test) + len(y_test) == n_audio_samples"
   ]
  },
  {
   "cell_type": "markdown",
   "metadata": {},
   "source": [
    "If the first `Provided_Portion` * `n_audio_samples` features were stored in `X_test`, then we need to also grab the _remaining_ audio features and store them in `y_test`. With the remaining features stored in there, we will be able to R^2 \"score\" how well our algorithm did in completing the sound file."
   ]
  },
  {
   "cell_type": "code",
   "execution_count": null,
   "metadata": {
    "collapsed": true
   },
   "outputs": [],
   "source": [
    "# .. your code here .."
   ]
  },
  {
   "cell_type": "markdown",
   "metadata": {},
   "source": [
    "Duplicate the same process for `X_train`, `y_train`. The only differences being:\n",
    "\n",
    "1. Your will be getting your audio data from `train` instead of from `test`\n",
    "2. Remember the shape of `train` that you printed out earlier? You want to do this slicing but for ALL samples (observations). For each observation, you want to slice the first `Provided_Portion` * `n_audio_samples` audio features into `X_train`, and the remaining go into `y_test`. All of this should be doable using regular indexing in two lines of code:"
   ]
  },
  {
   "cell_type": "code",
   "execution_count": 42,
   "metadata": {},
   "outputs": [
    {
     "name": "stdout",
     "output_type": "stream",
     "text": [
      "0      -100\n",
      "1         9\n",
      "2      5207\n",
      "3      9428\n",
      "4     -6257\n",
      "5     -9864\n",
      "6     -2254\n",
      "7      4893\n",
      "8      4229\n",
      "9     -5130\n",
      "10    -4900\n",
      "11     9560\n",
      "12    -8652\n",
      "13     9797\n",
      "14    -1827\n",
      "15     6248\n",
      "16    -1657\n",
      "17   -13687\n",
      "18     -501\n",
      "19     4334\n",
      "20    -5091\n",
      "21    -2653\n",
      "22     1820\n",
      "23     6169\n",
      "24    -1593\n",
      "25     4437\n",
      "26     7119\n",
      "27    -6532\n",
      "28     6727\n",
      "29     3284\n",
      "30     1008\n",
      "31     2475\n",
      "32    -1376\n",
      "33      160\n",
      "34    -1905\n",
      "35    -3149\n",
      "36     -456\n",
      "37     1821\n",
      "38     2119\n",
      "39    -6556\n",
      "40    -2440\n",
      "41     -762\n",
      "42     2593\n",
      "43     1259\n",
      "44      416\n",
      "45      210\n",
      "46    -1415\n",
      "48    -1075\n",
      "49    -3580\n",
      "Name: 1234, dtype: int16\n",
      "(49, 1022)\n",
      "(49, 3065)\n"
     ]
    }
   ],
   "source": [
    "x_train = train.loc[:,:Provided_Portion*n_audio_samples]\n",
    "y_train = train.loc[:,Provided_Portion*n_audio_samples:]\n",
    "print x_train.shape\n",
    "print y_train.shape\n",
    "#print len(x_train) + len(y_train) == n_audio_samples"
   ]
  },
  {
   "cell_type": "markdown",
   "metadata": {},
   "source": [
    "SciKit-Learn gets 'angry' if you don't supply your training data in the form of a 2D dataframe shaped like `[n_samples, n_features]`.\n",
    "\n",
    "So if you only have one SAMPLE, such as is our case with `X_test`, and `y_test`, then by calling `.reshape(1, -1)`, you can turn `[n_features]` into `[1, n_features]` in order to appease SciKit-Learn.\n",
    "\n",
    "On the other hand, if you only have one FEATURE, you can alternatively call `.reshape(-1, 1)` on your data to turn `[n_samples]` into `[n_samples, 1]`.\n",
    "\n",
    "Reshape X_test and y_test as [1, n_features]:"
   ]
  },
  {
   "cell_type": "code",
   "execution_count": null,
   "metadata": {
    "collapsed": true
   },
   "outputs": [],
   "source": [
    "# .. your code here .."
   ]
  },
  {
   "cell_type": "markdown",
   "metadata": {},
   "source": [
    "Fit your model using your training data and label:"
   ]
  },
  {
   "cell_type": "code",
   "execution_count": 43,
   "metadata": {},
   "outputs": [
    {
     "data": {
      "text/plain": [
       "LinearRegression(copy_X=True, fit_intercept=True, n_jobs=1, normalize=False)"
      ]
     },
     "execution_count": 43,
     "metadata": {},
     "output_type": "execute_result"
    }
   ],
   "source": [
    "model.fit(x_train,y_train)"
   ]
  },
  {
   "cell_type": "markdown",
   "metadata": {},
   "source": [
    "Use your model to predict the `label` of `X_test`. Store the resulting prediction in a variable called `y_test_prediction`:"
   ]
  },
  {
   "cell_type": "code",
   "execution_count": 47,
   "metadata": {},
   "outputs": [
    {
     "name": "stderr",
     "output_type": "stream",
     "text": [
      "/Users/ferrywlto/anaconda/lib/python2.7/site-packages/ipykernel_launcher.py:1: FutureWarning: reshape is deprecated and will raise in a subsequent release. Please use .values.reshape(...) instead\n",
      "  \"\"\"Entry point for launching an IPython kernel.\n"
     ]
    }
   ],
   "source": [
    "y_test_prediction = model.predict(x_test.reshape(1,-1))"
   ]
  },
  {
   "cell_type": "markdown",
   "metadata": {},
   "source": [
    "SciKit-Learn will use float64 to generate your predictions so let's take those values back to int16, which is what our .wav files expect:"
   ]
  },
  {
   "cell_type": "code",
   "execution_count": 48,
   "metadata": {
    "collapsed": true
   },
   "outputs": [],
   "source": [
    "y_test_prediction = y_test_prediction.astype(dtype=np.int16)"
   ]
  },
  {
   "cell_type": "markdown",
   "metadata": {},
   "source": [
    "Score how well your prediction would do for some good laughs, by passing in your test data and test label `y_test`:"
   ]
  },
  {
   "cell_type": "code",
   "execution_count": 53,
   "metadata": {},
   "outputs": [
    {
     "name": "stderr",
     "output_type": "stream",
     "text": [
      "/Users/ferrywlto/anaconda/lib/python2.7/site-packages/ipykernel_launcher.py:1: FutureWarning: reshape is deprecated and will raise in a subsequent release. Please use .values.reshape(...) instead\n",
      "  \"\"\"Entry point for launching an IPython kernel.\n"
     ]
    }
   ],
   "source": [
    "score = model.score(x_test.reshape(1,-1), y_test.reshape(1,-1))"
   ]
  },
  {
   "cell_type": "code",
   "execution_count": 64,
   "metadata": {},
   "outputs": [
    {
     "name": "stdout",
     "output_type": "stream",
     "text": [
      "('Extrapolation R^2 Score: ', 0.0)\n"
     ]
    }
   ],
   "source": [
    "print(\"Extrapolation R^2 Score: \", score)"
   ]
  },
  {
   "cell_type": "markdown",
   "metadata": {},
   "source": [
    "Let's take the first `Provided_Portion` portion of the test clip, the part you fed into your linear regression model. Then, stitch that together with the 'abomination' the predictor model generated for you and then save the completed audio clip:"
   ]
  },
  {
   "cell_type": "code",
   "execution_count": 57,
   "metadata": {},
   "outputs": [
    {
     "name": "stderr",
     "output_type": "stream",
     "text": [
      "/Users/ferrywlto/anaconda/lib/python2.7/site-packages/ipykernel_launcher.py:1: FutureWarning: reshape is deprecated and will raise in a subsequent release. Please use .values.reshape(...) instead\n",
      "  \"\"\"Entry point for launching an IPython kernel.\n"
     ]
    }
   ],
   "source": [
    "completed_clip = np.hstack((x_test.reshape(1,-1), y_test_prediction))\n",
    "wavfile.write('Extrapolated Clip.wav', sample_rate, completed_clip[0])"
   ]
  },
  {
   "cell_type": "markdown",
   "metadata": {},
   "source": [
    "Congrats on making it to the end of this crazy lab and module =) !"
   ]
  },
  {
   "cell_type": "code",
   "execution_count": null,
   "metadata": {
    "collapsed": true
   },
   "outputs": [],
   "source": []
  }
 ],
 "metadata": {
  "anaconda-cloud": {},
  "kernelspec": {
   "display_name": "Python 3",
   "language": "python",
   "name": "python3"
  },
  "language_info": {
   "codemirror_mode": {
    "name": "ipython",
    "version": 3
   },
   "file_extension": ".py",
   "mimetype": "text/x-python",
   "name": "python",
   "nbconvert_exporter": "python",
   "pygments_lexer": "ipython3",
   "version": "3.6.2"
  },
  "toc": {
   "colors": {
    "hover_highlight": "#DAA520",
    "running_highlight": "#FF0000",
    "selected_highlight": "#FFD700"
   },
   "moveMenuLeft": true,
   "nav_menu": {
    "height": "58px",
    "width": "252px"
   },
   "navigate_menu": true,
   "number_sections": true,
   "sideBar": true,
   "threshold": 4,
   "toc_cell": false,
   "toc_section_display": "block",
   "toc_window_display": false,
   "widenNotebook": false
  }
 },
 "nbformat": 4,
 "nbformat_minor": 2
}
