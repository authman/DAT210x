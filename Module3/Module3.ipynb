{
 "cells": [
  {
   "cell_type": "code",
   "execution_count": 3,
   "metadata": {
    "collapsed": true
   },
   "outputs": [],
   "source": [
    "import os\n",
    "\n",
    "path = r\"C:\\Users\\ADEKUNLE\\Documents\\GitHub\\DAT210x\\Module3\"\n",
    "os.chdir(path)"
   ]
  },
  {
   "cell_type": "code",
   "execution_count": null,
   "metadata": {
    "collapsed": false
   },
   "outputs": [],
   "source": []
  },
  {
   "cell_type": "code",
   "execution_count": 46,
   "metadata": {
    "collapsed": false
   },
   "outputs": [
    {
     "name": "stdout",
     "output_type": "stream",
     "text": [
      "Overwriting assignment1.py\n"
     ]
    }
   ],
   "source": [
    "%%file assignment1.py\n",
    "# %load assignment1.py\n",
    "import pandas as pd\n",
    "import matplotlib.pyplot as plt\n",
    "import matplotlib\n",
    "#%matplotlib inline\n",
    "\n",
    "# Look pretty...\n",
    "matplotlib.style.use('ggplot')\n",
    "\n",
    "#\n",
    "# TODO: Load up the Seeds Dataset into a Dataframe\n",
    "# It's located at 'Datasets/wheat.data'\n",
    "# \n",
    "# .. your code here ..\n",
    "wheatData = pd.read_csv('Datasets/wheat.data')\n",
    "wheatData.head()\n",
    "#Do some check on the dataframe\n",
    "print(wheatData.isnull().any())\n",
    "print(wheatData.dtypes)\n",
    "\n",
    "#After observing that there are null values, I tried to check if its only null and not unclean data that are in dataset\n",
    "#for i, v in enumerate(wheatData):\n",
    "#    print(wheatData[v].unique())\n",
    "\n",
    "#\n",
    "# TODO: Create a slice of your dataframe (call it s1)\n",
    "# that only includes the 'area' and 'perimeter' features\n",
    "# \n",
    "# .. your code here ..\n",
    "s1 = wheatData.loc[:, ['area', 'perimeter']]\n",
    "\n",
    "\n",
    "#\n",
    "# TODO: Create another slice of your dataframe (call it s2)\n",
    "# that only includes the 'groove' and 'asymmetry' features\n",
    "# \n",
    "# .. your code here ..\n",
    "s2 = wheatData.loc[:, ['groove', 'asymmetry']]\n",
    "\n",
    "#\n",
    "# TODO: Create a histogram plot using the first slice,\n",
    "# and another histogram plot using the second slice.\n",
    "# Be sure to set alpha=0.75\n",
    "# \n",
    "# .. your code here ..\n",
    "ax = s1.plot.hist(alpha = 0.75)\n",
    "ax2 = s2.plot.hist(alpha = 0.75)\n",
    "ax.set_xlabel(\"Values\")\n",
    "ax2.set_xlabel(\"Values\") #if you want to set the x and y labels for a pandas plot\n",
    "\n",
    "plt.show()\n",
    "\n"
   ]
  },
  {
   "cell_type": "code",
   "execution_count": 58,
   "metadata": {
    "collapsed": false
   },
   "outputs": [
    {
     "name": "stdout",
     "output_type": "stream",
     "text": [
      "Overwriting assignment2.py\n"
     ]
    }
   ],
   "source": [
    "%%writefile assignment2.py\n",
    "# %load assignment2.py\n",
    "import pandas as pd\n",
    "import matplotlib.pyplot as plt\n",
    "import matplotlib\n",
    "\n",
    "# Look pretty...\n",
    "matplotlib.style.use('ggplot')\n",
    "\n",
    "\n",
    "#\n",
    "# TODO: Load up the Seeds Dataset into a Dataframe\n",
    "# It's located at 'Datasets/wheat.data'\n",
    "# \n",
    "# .. your code here ..\n",
    "wheatDF = pd.read_csv('Datasets/wheat.data')\n",
    "\n",
    "#\n",
    "# TODO: Create a 2d scatter plot that graphs the\n",
    "# area and perimeter features\n",
    "# \n",
    "# .. your code here ..\n",
    "wheatS1 = wheatData.plot.scatter(x= 'area', y= 'perimeter')\n",
    "\n",
    "#\n",
    "# TODO: Create a 2d scatter plot that graphs the\n",
    "# groove and asymmetry features\n",
    "# \n",
    "# .. your code here ..\n",
    "wheatS2 = wheatDF.plot.scatter(x = 'groove', y = 'asymmetry')\n",
    "\n",
    "#\n",
    "# TODO: Create a 2d scatter plot that graphs the\n",
    "# compactness and width features\n",
    "# \n",
    "# .. your code here ..\n",
    "#used help('pandas.DataFrame.plot.scatter')\n",
    "wheatS3 = wheatDF.plot.scatter(x = 'compactness', y = 'width', marker = '^', c = 'g')\n",
    "\n",
    "\n",
    "# BONUS TODO:\n",
    "# After completing the above, go ahead and run your program\n",
    "# Check out the results, and see what happens when you add\n",
    "# in the optional display parameter marker with values of\n",
    "# either '^', '.', or 'o'.\n",
    "\n",
    "\n",
    "plt.show()\n",
    "\n",
    "\n"
   ]
  },
  {
   "cell_type": "code",
   "execution_count": 66,
   "metadata": {
    "collapsed": false
   },
   "outputs": [
    {
     "name": "stdout",
     "output_type": "stream",
     "text": [
      "Overwriting assignment3.py\n"
     ]
    }
   ],
   "source": [
    "%%writefile assignment3.py\n",
    "# %load assignment3.py\n",
    "import pandas as pd\n",
    "import matplotlib.pyplot as plt\n",
    "import matplotlib\n",
    "from mpl_toolkits.mplot3d import Axes3D\n",
    "\n",
    "# Look pretty...\n",
    "matplotlib.style.use('ggplot')\n",
    "\n",
    "\n",
    "#\n",
    "# TODO: Load up the Seeds Dataset into a Dataframe\n",
    "# It's located at 'Datasets/wheat.data'\n",
    "# \n",
    "# .. your code here ..\n",
    "wheat3D = pd.read_csv('Datasets/wheat.data')\n",
    "\n",
    "\n",
    "fig = plt.figure()\n",
    "#\n",
    "# TODO: Create a new 3D subplot using fig. Then use the\n",
    "# subplot to graph a 3D scatter plot using the area,\n",
    "# perimeter and asymmetry features. Be sure to use the\n",
    "# optional display parameter c='red', and also label your\n",
    "# axes\n",
    "# \n",
    "# .. your code here ..\n",
    "ax = fig.add_subplot(111, projection = '3d')\n",
    "ax.set_xlabel('area')\n",
    "ax.set_ylabel('perimeter')\n",
    "ax.set_zlabel('asymmetry')\n",
    "\n",
    "ax.scatter(wheat3D.area, wheatData.perimeter, wheatData.asymmetry, c = 'red')\n",
    "\n",
    "\n",
    "fig = plt.figure()\n",
    "#\n",
    "# TODO: Create a new 3D subplot using fig. Then use the\n",
    "# subplot to graph a 3D scatter plot using the width,\n",
    "# groove and length features. Be sure to use the\n",
    "# optional display parameter c='green', and also label your\n",
    "# axes\n",
    "# \n",
    "# .. your code here ..\n",
    "ax2 = fig.add_subplot(111, projection = '3d')\n",
    "ax2.set_xlabel('width')\n",
    "ax2.set_ylabel('groove')\n",
    "ax2.set_zlabel('length')\n",
    "\n",
    "ax2.scatter(wheat3D.width, wheat3D.groove, wheat3D['length'], c = 'green', marker = '^')\n",
    "\n",
    "plt.show()\n",
    "\n",
    "\n"
   ]
  },
  {
   "cell_type": "code",
   "execution_count": 74,
   "metadata": {
    "collapsed": false
   },
   "outputs": [
    {
     "name": "stdout",
     "output_type": "stream",
     "text": [
      "Overwriting assignment4.py\n"
     ]
    }
   ],
   "source": [
    "%%file assignment4.py\n",
    "# %load assignment4.py\n",
    "import pandas as pd\n",
    "import matplotlib.pyplot as plt\n",
    "import matplotlib\n",
    "\n",
    "from pandas.tools.plotting import parallel_coordinates\n",
    "\n",
    "# Look pretty...\n",
    "matplotlib.style.use('ggplot')\n",
    "\n",
    "\n",
    "#\n",
    "# TODO: Load up the Seeds Dataset into a Dataframe\n",
    "# It's located at 'Datasets/wheat.data'\n",
    "# \n",
    "# .. your code here ..\n",
    "wheatParl = pd.read_csv('Datasets/wheat.data')\n",
    "\n",
    "\n",
    "\n",
    "#\n",
    "# TODO: Drop the 'id', 'area', and 'perimeter' feature\n",
    "# \n",
    "# .. your code here ..\n",
    "\n",
    "wheatDrop = wheatParl.drop(['id', 'area', 'perimeter'], axis = 1)\n",
    "\n",
    "\n",
    "#\n",
    "# TODO: Plot a parallel coordinates chart grouped by\n",
    "# the 'wheat_type' feature. Be sure to set the optional\n",
    "# display parameter alpha to 0.4\n",
    "# \n",
    "# .. your code here ..\n",
    "plt.figure()\n",
    "parallel_coordinates(wheatDrop, 'wheat_type') #remember the features needs to be normalized before you plot\n",
    "#And often 'parallel_coordinates' are not very sweet with more than 10 features\n",
    "\n",
    "plt.show()\n",
    "\n",
    "\n",
    "\n",
    "\n",
    "#?matplotlib.style.use() A very good way to ask for help on a particular part of documentation in ipython"
   ]
  },
  {
   "cell_type": "code",
   "execution_count": 96,
   "metadata": {
    "collapsed": false
   },
   "outputs": [
    {
     "name": "stdout",
     "output_type": "stream",
     "text": [
      "Overwriting assignment5.py\n"
     ]
    }
   ],
   "source": [
    "%%writefile assignment5.py\n",
    "# %load assignment5.py\n",
    "#\n",
    "# This code is intentionally missing!\n",
    "# Read the directions on the course lab page!\n",
    "#\n",
    "import pandas as pd\n",
    "import matplotlib.pyplot as plt\n",
    "import matplotlib\n",
    "\n",
    "#import andrews_curves\n",
    "from pandas.tools.plotting import andrews_curves\n",
    "\n",
    "#Read in the dataset\n",
    "wheatAndrew = pd.read_csv('Datasets/wheat.data')\n",
    "\n",
    "#Drop 'id', 'area' and 'perimeter'\n",
    "wheatADrop = wheatAndrew.drop(['id', 'area', 'perimeter'], axis = 1)\n",
    "wheatADrop.head()\n",
    "\n",
    "#Prepare Andrew plot for the data\n",
    "plt.figure()\n",
    "andrews_curves(wheatADrop, 'wheat_type')\n",
    "plt.show()\n",
    "\n",
    "\n",
    "#Add back 'area' and 'perimeter'\n",
    "wheatComp = pd.concat([wheatADrop, wheatAndrew.area,  wheatAndrew.perimeter], axis = 1)\n",
    "\n",
    "#Plot Andrew Curve\n",
    "plt.figure()\n",
    "andrews_curves(wheatComp, 'wheat_type')\n",
    "plt.show()\n",
    "#With the Addition of the other features 'area' and 'perimeter' the feature scaling is no more feasible"
   ]
  },
  {
   "cell_type": "code",
   "execution_count": 7,
   "metadata": {
    "collapsed": false
   },
   "outputs": [
    {
     "name": "stdout",
     "output_type": "stream",
     "text": [
      "Overwriting assignment6.py\n"
     ]
    }
   ],
   "source": [
    "%%writefile assignment6.py\n",
    "# %load assignment6.py\n",
    "import pandas as pd\n",
    "import matplotlib.pyplot as plt\n",
    "\n",
    "#\n",
    "# TODO: Load up the Seeds Dataset into a Dataframe\n",
    "# It's located at 'Datasets/wheat.data'\n",
    "# \n",
    "# .. your code here ..\n",
    "wheatCorr = pd.read_csv('Datasets/wheat.data')\n",
    "\n",
    "#\n",
    "# TODO: Drop the 'id' feature\n",
    "# \n",
    "# .. your code here ..\n",
    "wheatCorrDrop = wheatCorr.drop('id', axis = 1)\n",
    "\n",
    "#\n",
    "# TODO: Compute the correlation matrix of your dataframe\n",
    "# \n",
    "# .. your code here ..\n",
    "print(wheatCorrDrop.corr())\n",
    "\n",
    "#\n",
    "# TODO: Graph the correlation matrix using imshow or matshow\n",
    "# \n",
    "# .. your code here ..\n",
    "\n",
    "plt.imshow(wheatCorrDrop.corr(), cmap = plt.cm.Greens, interpolation= 'nearest')\n",
    "plt.colorbar()\n",
    "tick_marks = [i for i in range(len(wheatCorrDrop.columns))]\n",
    "plt.xticks(tick_marks, wheatCorrDrop.columns, rotation = 'vertical')\n",
    "plt.yticks(tick_marks, wheatCorrDrop.columns)\n",
    "\n",
    "\n",
    "plt.show()\n",
    "\n",
    "\n"
   ]
  },
  {
   "cell_type": "code",
   "execution_count": null,
   "metadata": {
    "collapsed": false
   },
   "outputs": [],
   "source": []
  }
 ],
 "metadata": {
  "anaconda-cloud": {},
  "kernelspec": {
   "display_name": "Python [conda root]",
   "language": "python",
   "name": "conda-root-py"
  },
  "language_info": {
   "codemirror_mode": {
    "name": "ipython",
    "version": 3
   },
   "file_extension": ".py",
   "mimetype": "text/x-python",
   "name": "python",
   "nbconvert_exporter": "python",
   "pygments_lexer": "ipython3",
   "version": "3.5.2"
  }
 },
 "nbformat": 4,
 "nbformat_minor": 1
}
