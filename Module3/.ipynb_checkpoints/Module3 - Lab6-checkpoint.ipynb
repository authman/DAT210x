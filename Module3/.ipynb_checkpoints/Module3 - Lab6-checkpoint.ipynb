{
 "cells": [
  {
   "cell_type": "markdown",
   "metadata": {},
   "source": [
    "# DAT210x - Programming with Python for DS"
   ]
  },
  {
   "cell_type": "markdown",
   "metadata": {},
   "source": [
    "## Module3 - Lab6"
   ]
  },
  {
   "cell_type": "code",
   "execution_count": 1,
   "metadata": {
    "collapsed": true
   },
   "outputs": [],
   "source": [
    "import pandas as pd\n",
    "import matplotlib.pyplot as plt\n",
    "import matplotlib"
   ]
  },
  {
   "cell_type": "code",
   "execution_count": 2,
   "metadata": {
    "collapsed": true
   },
   "outputs": [],
   "source": [
    "# Look pretty...\n",
    "\n",
    "# matplotlib.style.use('ggplot')\n",
    "plt.style.use('ggplot')"
   ]
  },
  {
   "cell_type": "markdown",
   "metadata": {},
   "source": [
    "Load up the wheat seeds dataset into a dataframe. We've stored a copy in the Datasets directory."
   ]
  },
  {
   "cell_type": "code",
   "execution_count": null,
   "metadata": {
    "collapsed": true
   },
   "outputs": [],
   "source": []
  },
  {
   "cell_type": "code",
   "execution_count": 3,
   "metadata": {
    "collapsed": true
   },
   "outputs": [],
   "source": [
    "df = pd.read_csv('Datasets\\\\wheat.data')"
   ]
  },
  {
   "cell_type": "markdown",
   "metadata": {},
   "source": [
    "If you loaded the `id` column as a feature (hint: _you shouldn't have!_), then be sure to drop it. Also get rid of the `area` and `perimeter` features:"
   ]
  },
  {
   "cell_type": "code",
   "execution_count": 4,
   "metadata": {},
   "outputs": [
    {
     "name": "stdout",
     "output_type": "stream",
     "text": [
      "      area  perimeter  compactness  length  width  asymmetry  groove\n",
      "0    15.26      14.84       0.8710   5.763  3.312     2.2210   5.220\n",
      "1    14.88      14.57       0.8811   5.554  3.333     1.0180   4.956\n",
      "2    14.29      14.09       0.9050   5.291  3.337     2.6990   4.825\n",
      "3    13.84      13.94       0.8955   5.324  3.379     2.2590   4.805\n",
      "4    16.14      14.99       0.9034   5.658  3.562     1.3550   5.175\n",
      "5    14.38      14.21       0.8951   5.386  3.312     2.4620   4.956\n",
      "6    14.69      14.49       0.8799   5.563  3.259     3.5860   5.219\n",
      "7    14.11      14.10       0.8911   5.420  3.302     2.7000     NaN\n",
      "8    16.63      15.46       0.8747   6.053  3.465     2.0400   5.877\n",
      "9    16.44      15.25       0.8880   5.884  3.505     1.9690   5.533\n",
      "10   15.26      14.85       0.8696   5.714  3.242     4.5430   5.314\n",
      "11   14.03      14.16       0.8796   5.438  3.201     1.7170   5.001\n",
      "12   13.89      14.02       0.8880   5.439  3.199     3.9860   4.738\n",
      "13   13.78      14.06       0.8759   5.479  3.156     3.1360   4.872\n",
      "14   13.74      14.05       0.8744   5.482  3.114     2.9320   4.825\n",
      "15   14.59      14.28       0.8993   5.351  3.333     4.1850   4.781\n",
      "16   13.99      13.83       0.9183   5.119  3.383     5.2340   4.781\n",
      "17   15.69      14.75       0.9058   5.527  3.514     1.5990   5.046\n",
      "18   14.70      14.21       0.9153   5.205  3.466     1.7670   4.649\n",
      "19   12.72      13.57       0.8686   5.226  3.049     4.1020   4.914\n",
      "20   14.16      14.40       0.8584   5.658  3.129     3.0720   5.176\n",
      "21   14.11      14.26       0.8722   5.520  3.168     2.6880   5.219\n",
      "22   15.88      14.90       0.8988   5.618  3.507     0.7651   5.091\n",
      "23   12.08      13.23       0.8664   5.099  2.936     1.4150   4.961\n",
      "24   15.01      14.76       0.8657   5.789  3.245     1.7910   5.001\n",
      "25   16.19      15.16       0.8849   5.833  3.421     0.9030   5.307\n",
      "26   13.02      13.76       0.8641   5.395  3.026     3.3730   4.825\n",
      "27   12.74      13.67       0.8564   5.395  2.956     2.5040   4.869\n",
      "28   14.11      14.18       0.8820   5.541  3.221     2.7540   5.038\n",
      "29   13.45      14.02       0.8604   5.516  3.065     3.5310   5.097\n",
      "..     ...        ...          ...     ...    ...        ...     ...\n",
      "180  11.41      12.95       0.8560   5.090  2.775     4.9570   4.825\n",
      "181  12.46      13.41       0.8706   5.236  3.017     4.9870   5.147\n",
      "182  12.19      13.36       0.8579   5.240  2.909     4.8570   5.158\n",
      "183  11.65      13.07       0.8575   5.108  2.850     5.2090   5.135\n",
      "184  12.89      13.77       0.8541   5.495  3.026     6.1850   5.316\n",
      "185  11.56      13.31       0.8198   5.363  2.683     4.0620   5.182\n",
      "186  11.81      13.45       0.8198   5.413  2.716     4.8980   5.352\n",
      "187  10.91      12.80       0.8372   5.088  2.675     4.1790   4.956\n",
      "188  11.23      12.82       0.8594   5.089  2.821     7.5240   4.957\n",
      "189  10.59      12.41       0.8648   4.899  2.787     4.9750   4.794\n",
      "190  10.93      12.80       0.8390   5.046  2.717     5.3980   5.045\n",
      "191  11.27      12.86       0.8563   5.091  2.804     3.9850   5.001\n",
      "192  11.87      13.02       0.8795   5.132  2.953     3.5970   5.132\n",
      "193  10.82      12.83       0.8256   5.180  2.630     4.8530   5.089\n",
      "194  12.11      13.27       0.8639   5.236  2.975     4.1320   5.012\n",
      "195  12.80      13.47       0.8860   5.160  3.126     4.8730   4.914\n",
      "196  12.79      13.53       0.8786   5.224  3.054     5.4830   4.958\n",
      "197  13.37      13.78       0.8849   5.320  3.128     4.6700   5.091\n",
      "198  12.62      13.67       0.8481   5.410  2.911     3.3060   5.231\n",
      "199  12.76      13.38       0.8964   5.073  3.155     2.8280   4.830\n",
      "200  12.38      13.44       0.8609   5.219  2.989     5.4720   5.045\n",
      "201  12.67      13.32       0.8977   4.984  3.135     2.3000     NaN\n",
      "202  11.18      12.72       0.8680   5.009  2.810     4.0510   4.828\n",
      "203  12.70      13.41       0.8874   5.183  3.091     8.4560   5.000\n",
      "204  12.37      13.47       0.8567   5.204  2.960     3.9190   5.001\n",
      "205  12.19      13.20       0.8783   5.137  2.981     3.6310   4.870\n",
      "206  11.23      12.88       0.8511   5.140  2.795     4.3250   5.003\n",
      "207  13.20      13.66       0.8883   5.236  3.232     8.3150   5.056\n",
      "208  11.84      13.21       0.8521   5.175  2.836     3.5980   5.044\n",
      "209  12.30      13.34       0.8684   5.243  2.974     5.6370   5.063\n",
      "\n",
      "[210 rows x 7 columns]\n"
     ]
    }
   ],
   "source": [
    "df.drop(['id','wheat_type'], inplace=True, axis=1)\n",
    "print df"
   ]
  },
  {
   "cell_type": "markdown",
   "metadata": {},
   "source": [
    "Compute the correlation matrix of your dataframe:"
   ]
  },
  {
   "cell_type": "code",
   "execution_count": 5,
   "metadata": {},
   "outputs": [
    {
     "data": {
      "text/html": [
       "<div>\n",
       "<style>\n",
       "    .dataframe thead tr:only-child th {\n",
       "        text-align: right;\n",
       "    }\n",
       "\n",
       "    .dataframe thead th {\n",
       "        text-align: left;\n",
       "    }\n",
       "\n",
       "    .dataframe tbody tr th {\n",
       "        vertical-align: top;\n",
       "    }\n",
       "</style>\n",
       "<table border=\"1\" class=\"dataframe\">\n",
       "  <thead>\n",
       "    <tr style=\"text-align: right;\">\n",
       "      <th></th>\n",
       "      <th>area</th>\n",
       "      <th>perimeter</th>\n",
       "      <th>compactness</th>\n",
       "      <th>length</th>\n",
       "      <th>width</th>\n",
       "      <th>asymmetry</th>\n",
       "      <th>groove</th>\n",
       "    </tr>\n",
       "  </thead>\n",
       "  <tbody>\n",
       "    <tr>\n",
       "      <th>area</th>\n",
       "      <td>1.000000</td>\n",
       "      <td>0.994341</td>\n",
       "      <td>0.600312</td>\n",
       "      <td>0.645418</td>\n",
       "      <td>0.801616</td>\n",
       "      <td>-0.205876</td>\n",
       "      <td>0.786096</td>\n",
       "    </tr>\n",
       "    <tr>\n",
       "      <th>perimeter</th>\n",
       "      <td>0.994341</td>\n",
       "      <td>1.000000</td>\n",
       "      <td>0.520544</td>\n",
       "      <td>0.657490</td>\n",
       "      <td>0.783188</td>\n",
       "      <td>-0.196360</td>\n",
       "      <td>0.813256</td>\n",
       "    </tr>\n",
       "    <tr>\n",
       "      <th>compactness</th>\n",
       "      <td>0.600312</td>\n",
       "      <td>0.520544</td>\n",
       "      <td>1.000000</td>\n",
       "      <td>0.360060</td>\n",
       "      <td>0.756165</td>\n",
       "      <td>-0.315668</td>\n",
       "      <td>0.236184</td>\n",
       "    </tr>\n",
       "    <tr>\n",
       "      <th>length</th>\n",
       "      <td>0.645418</td>\n",
       "      <td>0.657490</td>\n",
       "      <td>0.360060</td>\n",
       "      <td>1.000000</td>\n",
       "      <td>0.197228</td>\n",
       "      <td>-0.102325</td>\n",
       "      <td>0.669887</td>\n",
       "    </tr>\n",
       "    <tr>\n",
       "      <th>width</th>\n",
       "      <td>0.801616</td>\n",
       "      <td>0.783188</td>\n",
       "      <td>0.756165</td>\n",
       "      <td>0.197228</td>\n",
       "      <td>1.000000</td>\n",
       "      <td>-0.249378</td>\n",
       "      <td>0.619865</td>\n",
       "    </tr>\n",
       "    <tr>\n",
       "      <th>asymmetry</th>\n",
       "      <td>-0.205876</td>\n",
       "      <td>-0.196360</td>\n",
       "      <td>-0.315668</td>\n",
       "      <td>-0.102325</td>\n",
       "      <td>-0.249378</td>\n",
       "      <td>1.000000</td>\n",
       "      <td>-0.039248</td>\n",
       "    </tr>\n",
       "    <tr>\n",
       "      <th>groove</th>\n",
       "      <td>0.786096</td>\n",
       "      <td>0.813256</td>\n",
       "      <td>0.236184</td>\n",
       "      <td>0.669887</td>\n",
       "      <td>0.619865</td>\n",
       "      <td>-0.039248</td>\n",
       "      <td>1.000000</td>\n",
       "    </tr>\n",
       "  </tbody>\n",
       "</table>\n",
       "</div>"
      ],
      "text/plain": [
       "                 area  perimeter  compactness    length     width  asymmetry  \\\n",
       "area         1.000000   0.994341     0.600312  0.645418  0.801616  -0.205876   \n",
       "perimeter    0.994341   1.000000     0.520544  0.657490  0.783188  -0.196360   \n",
       "compactness  0.600312   0.520544     1.000000  0.360060  0.756165  -0.315668   \n",
       "length       0.645418   0.657490     0.360060  1.000000  0.197228  -0.102325   \n",
       "width        0.801616   0.783188     0.756165  0.197228  1.000000  -0.249378   \n",
       "asymmetry   -0.205876  -0.196360    -0.315668 -0.102325 -0.249378   1.000000   \n",
       "groove       0.786096   0.813256     0.236184  0.669887  0.619865  -0.039248   \n",
       "\n",
       "               groove  \n",
       "area         0.786096  \n",
       "perimeter    0.813256  \n",
       "compactness  0.236184  \n",
       "length       0.669887  \n",
       "width        0.619865  \n",
       "asymmetry   -0.039248  \n",
       "groove       1.000000  "
      ]
     },
     "execution_count": 5,
     "metadata": {},
     "output_type": "execute_result"
    }
   ],
   "source": [
    "df.corr()"
   ]
  },
  {
   "cell_type": "markdown",
   "metadata": {},
   "source": [
    "Graph the correlation matrix using `imshow` or `matshow`:"
   ]
  },
  {
   "cell_type": "code",
   "execution_count": null,
   "metadata": {
    "collapsed": true
   },
   "outputs": [],
   "source": []
  },
  {
   "cell_type": "code",
   "execution_count": 8,
   "metadata": {},
   "outputs": [
    {
     "data": {
      "image/png": "[encoded data removed]",
      "text/plain": [
       "<matplotlib.figure.Figure at 0xb257160>"
      ]
     },
     "metadata": {},
     "output_type": "display_data"
    }
   ],
   "source": [
    "plt.imshow(df.corr(), cmap=plt.cm.Blues, interpolation='nearest')\n",
    "plt.colorbar()\n",
    "tick_marks = [i for i in range(len(df.columns))]\n",
    "plt.xticks(tick_marks, df.columns, rotation='vertical')\n",
    "plt.yticks(tick_marks, df.columns)\n",
    "plt.show()\n"
   ]
  },
  {
   "cell_type": "code",
   "execution_count": 11,
   "metadata": {},
   "outputs": [
    {
     "data": {
      "image/png": "[encoded data removed]",
      "text/plain": [
       "<matplotlib.figure.Figure at 0xa7f9128>"
      ]
     },
     "metadata": {},
     "output_type": "display_data"
    }
   ],
   "source": [
    "# Display the graphs:\n",
    "plt.show()"
   ]
  },
  {
   "cell_type": "code",
   "execution_count": null,
   "metadata": {
    "collapsed": true
   },
   "outputs": [],
   "source": []
  }
 ],
 "metadata": {
  "anaconda-cloud": {},
  "kernelspec": {
   "display_name": "Python 2",
   "language": "python",
   "name": "python2"
  },
  "language_info": {
   "codemirror_mode": {
    "name": "ipython",
    "version": 2
   },
   "file_extension": ".py",
   "mimetype": "text/x-python",
   "name": "python",
   "nbconvert_exporter": "python",
   "pygments_lexer": "ipython2",
   "version": "2.7.13"
  },
  "toc": {
   "colors": {
    "hover_highlight": "#DAA520",
    "running_highlight": "#FF0000",
    "selected_highlight": "#FFD700"
   },
   "moveMenuLeft": true,
   "nav_menu": {
    "height": "58px",
    "width": "252px"
   },
   "navigate_menu": true,
   "number_sections": true,
   "sideBar": true,
   "threshold": 4,
   "toc_cell": false,
   "toc_section_display": "block",
   "toc_window_display": false,
   "widenNotebook": false
  }
 },
 "nbformat": 4,
 "nbformat_minor": 2
}
