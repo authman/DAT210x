{
 "cells": [
  {
   "cell_type": "markdown",
   "metadata": {},
   "source": [
    "# DAT210x - Programming with Python for DS"
   ]
  },
  {
   "cell_type": "markdown",
   "metadata": {},
   "source": [
    "## Module5- Lab1"
   ]
  },
  {
   "cell_type": "markdown",
   "metadata": {
    "collapsed": true
   },
   "source": [
    "Start by importing whatever you need to import in order to make this lab work:"
   ]
  },
  {
   "cell_type": "code",
   "execution_count": 2,
   "metadata": {
    "collapsed": true
   },
   "outputs": [],
   "source": [
    "import pandas as pd\n",
    "\n",
    "from scipy import misc\n",
    "from mpl_toolkits.mplot3d import Axes3D\n",
    "import matplotlib\n",
    "import matplotlib.pyplot as plt\n",
    "\n",
    "from sklearn.decomposition import PCA\n",
    "from sklearn import manifold\n",
    "from scipy import misc\n",
    "import numpy as np"
   ]
  },
  {
   "cell_type": "markdown",
   "metadata": {
    "collapsed": true
   },
   "source": [
    "### How to Get The Dataset"
   ]
  },
  {
   "cell_type": "markdown",
   "metadata": {
    "collapsed": true
   },
   "source": [
    "1. Open up the City of Chicago's [Open Data | Crimes](https://data.cityofchicago.org/Public-Safety/Crimes-2001-to-present/ijzp-q8t2) page.\n",
    "1. In the `Primary Type` column, click on the `Menu` button next to the info button, and select `Filter This Column`. It might take a second for the filter option to show up, since it has to load the entire list first.\n",
    "1. Scroll down to `GAMBLING`\n",
    "1. Click the light blue `Export` button next to the `Filter` button, and select `Download As CSV`"
   ]
  },
  {
   "cell_type": "markdown",
   "metadata": {},
   "source": [
    "Now that you have th dataset stored as a CSV, load it up being careful to double check headers, as per usual:"
   ]
  },
  {
   "cell_type": "code",
   "execution_count": 3,
   "metadata": {},
   "outputs": [
    {
     "name": "stdout",
     "output_type": "stream",
     "text": [
      "        ID Case Number                    Date                    Block  IUCR  \\\n",
      "0  4647776    HM172874  02/09/2006 10:29:07 PM       075XX S COLFAX AVE  1661   \n",
      "1  4649196    HM157167  02/01/2006 12:30:27 PM     038XX W FERDINAND ST  1661   \n",
      "2  4649661    HM159623  02/02/2006 07:02:12 PM      050XX W SUPERIOR ST  1661   \n",
      "3  4650448    HM158020  02/01/2006 08:13:00 PM  056XX W WASHINGTON BLVD  1661   \n",
      "4  4650940    HM156984  02/01/2006 10:10:00 AM          015XX W 72ND ST  1661   \n",
      "\n",
      "  Primary Type Description     Location Description  Arrest  Domestic  \\\n",
      "0     GAMBLING   GAME/DICE                 SIDEWALK    True     False   \n",
      "1     GAMBLING   GAME/DICE                 SIDEWALK    True     False   \n",
      "2     GAMBLING   GAME/DICE                 SIDEWALK    True     False   \n",
      "3     GAMBLING   GAME/DICE  RESIDENCE PORCH/HALLWAY    True     False   \n",
      "4     GAMBLING   GAME/DICE                 SIDEWALK    True     False   \n",
      "\n",
      "               ...                Ward  Community Area  FBI Code  \\\n",
      "0              ...                 7.0            43.0        19   \n",
      "1              ...                27.0            23.0        19   \n",
      "2              ...                28.0            25.0        19   \n",
      "3              ...                29.0            25.0        19   \n",
      "4              ...                17.0            67.0        19   \n",
      "\n",
      "   X Coordinate  Y Coordinate  Year              Updated On   Latitude  \\\n",
      "0     1194833.0     1855572.0  2006  04/15/2016 08:55:02 AM  41.758607   \n",
      "1     1150871.0     1903067.0  2006  04/15/2016 08:55:02 AM  41.889909   \n",
      "2     1142605.0     1904502.0  2006  04/15/2016 08:55:02 AM  41.894005   \n",
      "3     1138430.0     1900175.0  2006  04/15/2016 08:55:02 AM  41.882208   \n",
      "4     1167231.0     1856980.0  2006  04/15/2016 08:55:02 AM  41.763106   \n",
      "\n",
      "   Longitude                       Location  \n",
      "0 -87.561511  (41.758607126, -87.561510616)  \n",
      "1 -87.721389  (41.889909247, -87.721389051)  \n",
      "2 -87.751710   (41.89400481, -87.751710086)  \n",
      "3 -87.767149  (41.882207608, -87.767148598)  \n",
      "4 -87.662629   (41.763105901, -87.66262925)  \n",
      "\n",
      "[5 rows x 22 columns]\n",
      "(14163, 22)\n"
     ]
    }
   ],
   "source": [
    "df = pd.read_csv('Datasets/Crimes.csv')\n",
    "print df.head(5)\n",
    "print df.shape\n"
   ]
  },
  {
   "cell_type": "markdown",
   "metadata": {},
   "source": [
    "Get rid of any _rows_ that have nans in them:"
   ]
  },
  {
   "cell_type": "code",
   "execution_count": 4,
   "metadata": {},
   "outputs": [
    {
     "data": {
      "text/plain": [
       "(12948, 22)"
      ]
     },
     "execution_count": 4,
     "metadata": {},
     "output_type": "execute_result"
    }
   ],
   "source": [
    "df.dropna(inplace=True)\n",
    "df.shape"
   ]
  },
  {
   "cell_type": "markdown",
   "metadata": {},
   "source": [
    "Display the `dtypes` of your dset:"
   ]
  },
  {
   "cell_type": "code",
   "execution_count": 5,
   "metadata": {},
   "outputs": [
    {
     "data": {
      "text/plain": [
       "ID                        int64\n",
       "Case Number              object\n",
       "Date                     object\n",
       "Block                    object\n",
       "IUCR                      int64\n",
       "Primary Type             object\n",
       "Description              object\n",
       "Location Description     object\n",
       "Arrest                     bool\n",
       "Domestic                   bool\n",
       "Beat                      int64\n",
       "District                  int64\n",
       "Ward                    float64\n",
       "Community Area          float64\n",
       "FBI Code                  int64\n",
       "X Coordinate            float64\n",
       "Y Coordinate            float64\n",
       "Year                      int64\n",
       "Updated On               object\n",
       "Latitude                float64\n",
       "Longitude               float64\n",
       "Location                 object\n",
       "dtype: object"
      ]
     },
     "execution_count": 5,
     "metadata": {},
     "output_type": "execute_result"
    }
   ],
   "source": [
    "df.dtypes"
   ]
  },
  {
   "cell_type": "markdown",
   "metadata": {},
   "source": [
    "Coerce the `Date` feature (which is currently a string object) into real date, and confirm by displaying the `dtypes` again. This might be a slow executing process..."
   ]
  },
  {
   "cell_type": "code",
   "execution_count": 7,
   "metadata": {},
   "outputs": [
    {
     "name": "stdout",
     "output_type": "stream",
     "text": [
      "(12948, 22)\n",
      "ID                               int64\n",
      "Case Number                     object\n",
      "Date                    datetime64[ns]\n",
      "Block                           object\n",
      "IUCR                             int64\n",
      "Primary Type                    object\n",
      "Description                     object\n",
      "Location Description            object\n",
      "Arrest                            bool\n",
      "Domestic                          bool\n",
      "Beat                             int64\n",
      "District                         int64\n",
      "Ward                           float64\n",
      "Community Area                 float64\n",
      "FBI Code                         int64\n",
      "X Coordinate                   float64\n",
      "Y Coordinate                   float64\n",
      "Year                             int64\n",
      "Updated On                      object\n",
      "Latitude                       float64\n",
      "Longitude                      float64\n",
      "Location                        object\n",
      "dtype: object\n"
     ]
    }
   ],
   "source": [
    "df.Date = pd.to_datetime(df.Date, errors='coerce')\n",
    "print df.shape\n",
    "print df.dtypes"
   ]
  },
  {
   "cell_type": "code",
   "execution_count": null,
   "metadata": {
    "collapsed": true
   },
   "outputs": [],
   "source": [
    "def doKMeans(df):\n",
    "    # Let's plot your data with a '.' marker, a 0.3 alpha at the Longitude,\n",
    "    # and Latitude locations in your dataset. Longitude = x, Latitude = y\n",
    "    fig = plt.figure()\n",
    "    ax = fig.add_subplot(111)\n",
    "    ax.scatter(df.Longitude, df.Latitude, marker='.', alpha=0.3)\n",
    "\n",
    "    \n",
    "    # TODO: Filter `df` using indexing so it only contains Longitude and Latitude,\n",
    "    # since the remaining columns aren't really applicable for this lab:\n",
    "    #\n",
    "    # .. your code here ..\n",
    "\n",
    "\n",
    "    # TODO: Use K-Means to try and find seven cluster centers in this df.\n",
    "    # Be sure to name your kmeans model `model` so that the printing works.\n",
    "    #\n",
    "    # .. your code here ..\n",
    "\n",
    "\n",
    "    # Now we can print and plot the centroids:\n",
    "    centroids = model.cluster_centers_\n",
    "    print(centroids)\n",
    "    ax.scatter(centroids[:,0], centroids[:,1], marker='x', c='red', alpha=0.5, linewidths=3, s=169)\n",
    "    plt.show()"
   ]
  },
  {
   "cell_type": "code",
   "execution_count": null,
   "metadata": {
    "collapsed": true
   },
   "outputs": [],
   "source": [
    "# Print & Plot your data\n",
    "doKMeans(df)"
   ]
  },
  {
   "cell_type": "markdown",
   "metadata": {},
   "source": [
    "Filter out the data so that it only contains samples that have a `Date > '2011-01-01'`, using indexing. Then, in a new figure, plot the crime incidents, as well as a new K-Means run's centroids."
   ]
  },
  {
   "cell_type": "code",
   "execution_count": null,
   "metadata": {
    "collapsed": true
   },
   "outputs": [],
   "source": [
    "# .. your code here .."
   ]
  },
  {
   "cell_type": "code",
   "execution_count": null,
   "metadata": {
    "collapsed": true
   },
   "outputs": [],
   "source": [
    "# Print & Plot your data\n",
    "doKMeans(df)"
   ]
  },
  {
   "cell_type": "code",
   "execution_count": null,
   "metadata": {
    "collapsed": true
   },
   "outputs": [],
   "source": []
  }
 ],
 "metadata": {
  "anaconda-cloud": {},
  "kernelspec": {
   "display_name": "Python 2",
   "language": "python",
   "name": "python2"
  },
  "language_info": {
   "codemirror_mode": {
    "name": "ipython",
    "version": 2
   },
   "file_extension": ".py",
   "mimetype": "text/x-python",
   "name": "python",
   "nbconvert_exporter": "python",
   "pygments_lexer": "ipython2",
   "version": "2.7.13"
  },
  "toc": {
   "colors": {
    "hover_highlight": "#DAA520",
    "running_highlight": "#FF0000",
    "selected_highlight": "#FFD700"
   },
   "moveMenuLeft": true,
   "nav_menu": {
    "height": "58px",
    "width": "252px"
   },
   "navigate_menu": true,
   "number_sections": true,
   "sideBar": true,
   "threshold": 4,
   "toc_cell": false,
   "toc_section_display": "block",
   "toc_window_display": false,
   "widenNotebook": false
  }
 },
 "nbformat": 4,
 "nbformat_minor": 2
}
