{
 "cells": [
  {
   "cell_type": "markdown",
   "metadata": {},
   "source": [
    "# DAT210x - Programming with Python for DS"
   ]
  },
  {
   "cell_type": "markdown",
   "metadata": {},
   "source": [
    "## Module5- Lab7"
   ]
  },
  {
   "cell_type": "code",
   "execution_count": 1,
   "metadata": {
    "collapsed": true
   },
   "outputs": [],
   "source": [
    "import random, math\n",
    "import pandas as pd\n",
    "import numpy as np\n",
    "import scipy.io\n",
    "\n",
    "from mpl_toolkits.mplot3d import Axes3D\n",
    "import matplotlib.pyplot as plt\n",
    "import matplotlib\n",
    "\n",
    "matplotlib.style.use('ggplot') # Look Pretty\n",
    "from sklearn import preprocessing\n",
    "from sklearn import manifold\n",
    "from sklearn.model_selection import train_test_split\n",
    "from sklearn.decomposition import PCA\n",
    "from sklearn.neighbors import KNeighborsClassifier\n",
    "\n",
    "#data = pd.read_csv('Datasets/breast-cancer-wisconsin.data', names=['sample', 'thickness', 'size', 'shape', 'adhesion', 'epithelial', 'nuclei', 'chromatin', 'nucleoli', 'mitoses', 'status'], na_values=['?'])\n",
    "data = pd.read_csv('Datasets/breast-cancer-wisconsin.data', names=['sample', 'thickness', 'size', 'shape', 'adhesion', 'epithelial', 'nuclei', 'chromatin', 'nucleoli', 'mitoses', 'status'], na_values=['?'])\n",
    "label = data.status.copy()\n",
    "data.drop(['status','sample'], axis=1, inplace=True)\n",
    "data.nuclei = pd.to_numeric(data.nuclei, errors='coerce')\n",
    "data.nuclei.fillna(data.nuclei.mean(), inplace=True)"
   ]
  },
  {
   "cell_type": "markdown",
   "metadata": {},
   "source": [
    "### A Convenience Function"
   ]
  },
  {
   "cell_type": "markdown",
   "metadata": {},
   "source": [
    "This method is for your visualization convenience only. You aren't expected to know how to put this together yourself, although you should be able to follow the code by now:"
   ]
  },
  {
   "cell_type": "code",
   "execution_count": 2,
   "metadata": {
    "collapsed": true
   },
   "outputs": [],
   "source": [
    "def plotDecisionBoundary(model, X, y):\n",
    "    print(\"Plotting...\")\n",
    "\n",
    "    fig = plt.figure()\n",
    "    ax = fig.add_subplot(111)\n",
    "\n",
    "    padding = 0.1\n",
    "    resolution = 0.1\n",
    "\n",
    "    #(2 for benign, 4 for malignant)\n",
    "    colors = {2:'royalblue', 4:'lightsalmon'} \n",
    "\n",
    "\n",
    "    # Calculate the boundaris\n",
    "    x_min, x_max = X[:, 0].min(), X[:, 0].max()\n",
    "    y_min, y_max = X[:, 1].min(), X[:, 1].max()\n",
    "    x_range = x_max - x_min\n",
    "    y_range = y_max - y_min\n",
    "    x_min -= x_range * padding\n",
    "    y_min -= y_range * padding\n",
    "    x_max += x_range * padding\n",
    "    y_max += y_range * padding\n",
    "\n",
    "    # Create a 2D Grid Matrix. The values stored in the matrix\n",
    "    # are the predictions of the class at at said location\n",
    "    xx, yy = np.meshgrid(np.arange(x_min, x_max, resolution),\n",
    "                         np.arange(y_min, y_max, resolution))\n",
    "\n",
    "    # What class does the classifier say?\n",
    "    Z = model.predict(np.c_[xx.ravel(), yy.ravel()])\n",
    "    Z = Z.reshape(xx.shape)\n",
    "\n",
    "    # Plot the contour map\n",
    "    plt.contourf(xx, yy, Z, cmap=plt.cm.seismic)\n",
    "    plt.axis('tight')\n",
    "\n",
    "    # Plot your testing points as well...\n",
    "    for label in np.unique(y):\n",
    "        indices = np.where(y == label)\n",
    "        plt.scatter(X[indices, 0], X[indices, 1], c=colors[label], alpha=0.8)\n",
    "\n",
    "    p = model.get_params()\n",
    "    plt.title('K = ' + str(p['n_neighbors']))\n",
    "    plt.show()"
   ]
  },
  {
   "cell_type": "markdown",
   "metadata": {
    "collapsed": true
   },
   "source": [
    "### The Assignment"
   ]
  },
  {
   "cell_type": "markdown",
   "metadata": {
    "collapsed": true
   },
   "source": [
    "Load in the dataset, identify nans, and set proper headers. Be sure to verify the rows line up by looking at the file in a text editor."
   ]
  },
  {
   "cell_type": "code",
   "execution_count": 3,
   "metadata": {
    "scrolled": true
   },
   "outputs": [
    {
     "name": "stdout",
     "output_type": "stream",
     "text": [
      "sample          int64\n",
      "thickness       int64\n",
      "size            int64\n",
      "shape           int64\n",
      "adhesion        int64\n",
      "epithelial      int64\n",
      "nuclei        float64\n",
      "chromatin       int64\n",
      "nucleoli        int64\n",
      "mitoses         int64\n",
      "status          int64\n",
      "dtype: object\n",
      "(5, 11)\n",
      "('sample', array([False], dtype=bool))\n",
      "('thickness', array([False], dtype=bool))\n",
      "('size', array([False], dtype=bool))\n",
      "('shape', array([False], dtype=bool))\n",
      "('adhesion', array([False], dtype=bool))\n",
      "('epithelial', array([False], dtype=bool))\n",
      "('nuclei', array([False], dtype=bool))\n",
      "('chromatin', array([False], dtype=bool))\n",
      "('nucleoli', array([False], dtype=bool))\n",
      "('mitoses', array([False], dtype=bool))\n",
      "('status', array([False], dtype=bool))\n",
      "(    sample  thickness  size  shape  adhesion  epithelial  nuclei  chromatin  \\\n",
      "0  1000025          5     1      1         1           2     1.0          3   \n",
      "\n",
      "   nucleoli  mitoses  status  \n",
      "0         1        1       2  , sample          int64\n",
      "thickness       int64\n",
      "size            int64\n",
      "shape           int64\n",
      "adhesion        int64\n",
      "epithelial      int64\n",
      "nuclei        float64\n",
      "chromatin       int64\n",
      "nucleoli        int64\n",
      "mitoses         int64\n",
      "status          int64\n",
      "dtype: object)\n",
      "3.54465592972\n"
     ]
    }
   ],
   "source": [
    "print data.dtypes\n",
    "print data.head().shape\n",
    "\n",
    "#nuclei is object thus it must have non-numeric value, clean it\n",
    "data.nuclei = pd.to_numeric(data.nuclei, errors='coerce')\n",
    "\n",
    "data.nuclei.fillna(data.nuclei.mean(), inplace=True)\n",
    "\n",
    "#check missing data for each column\n",
    "for n in data.columns:\n",
    "    print (n,data[n].isnull().unique())\n",
    "print (data.head(1), data.dtypes)\n",
    "\n",
    "print data.nuclei.mean()"
   ]
  },
  {
   "cell_type": "markdown",
   "metadata": {},
   "source": [
    "Copy out the status column into a slice, then drop it from the main dataframe. Always verify you properly executed the drop by double checking (printing out the resulting operating)! Many people forget to set the right axis here.\n",
    "\n",
    "If you goofed up on loading the dataset and notice you have a `sample` column, this would be a good place to drop that too if you haven't already."
   ]
  },
  {
   "cell_type": "code",
   "execution_count": 4,
   "metadata": {
    "collapsed": true
   },
   "outputs": [],
   "source": [
    "label = data.status.copy()\n",
    "data.drop(['status','sample'], axis=1, inplace=True)"
   ]
  },
  {
   "cell_type": "markdown",
   "metadata": {},
   "source": [
    "With the labels safely extracted from the dataset, replace any nan values with the mean feature / column value:"
   ]
  },
  {
   "cell_type": "code",
   "execution_count": 5,
   "metadata": {},
   "outputs": [
    {
     "data": {
      "text/html": [
       "<div>\n",
       "<style>\n",
       "    .dataframe thead tr:only-child th {\n",
       "        text-align: right;\n",
       "    }\n",
       "\n",
       "    .dataframe thead th {\n",
       "        text-align: left;\n",
       "    }\n",
       "\n",
       "    .dataframe tbody tr th {\n",
       "        vertical-align: top;\n",
       "    }\n",
       "</style>\n",
       "<table border=\"1\" class=\"dataframe\">\n",
       "  <thead>\n",
       "    <tr style=\"text-align: right;\">\n",
       "      <th></th>\n",
       "      <th>thickness</th>\n",
       "      <th>size</th>\n",
       "      <th>shape</th>\n",
       "      <th>adhesion</th>\n",
       "      <th>epithelial</th>\n",
       "      <th>nuclei</th>\n",
       "      <th>chromatin</th>\n",
       "      <th>nucleoli</th>\n",
       "      <th>mitoses</th>\n",
       "    </tr>\n",
       "  </thead>\n",
       "  <tbody>\n",
       "    <tr>\n",
       "      <th>0</th>\n",
       "      <td>5</td>\n",
       "      <td>1</td>\n",
       "      <td>1</td>\n",
       "      <td>1</td>\n",
       "      <td>2</td>\n",
       "      <td>1.0</td>\n",
       "      <td>3</td>\n",
       "      <td>1</td>\n",
       "      <td>1</td>\n",
       "    </tr>\n",
       "    <tr>\n",
       "      <th>1</th>\n",
       "      <td>5</td>\n",
       "      <td>4</td>\n",
       "      <td>4</td>\n",
       "      <td>5</td>\n",
       "      <td>7</td>\n",
       "      <td>10.0</td>\n",
       "      <td>3</td>\n",
       "      <td>2</td>\n",
       "      <td>1</td>\n",
       "    </tr>\n",
       "    <tr>\n",
       "      <th>2</th>\n",
       "      <td>3</td>\n",
       "      <td>1</td>\n",
       "      <td>1</td>\n",
       "      <td>1</td>\n",
       "      <td>2</td>\n",
       "      <td>2.0</td>\n",
       "      <td>3</td>\n",
       "      <td>1</td>\n",
       "      <td>1</td>\n",
       "    </tr>\n",
       "    <tr>\n",
       "      <th>3</th>\n",
       "      <td>6</td>\n",
       "      <td>8</td>\n",
       "      <td>8</td>\n",
       "      <td>1</td>\n",
       "      <td>3</td>\n",
       "      <td>4.0</td>\n",
       "      <td>3</td>\n",
       "      <td>7</td>\n",
       "      <td>1</td>\n",
       "    </tr>\n",
       "    <tr>\n",
       "      <th>4</th>\n",
       "      <td>4</td>\n",
       "      <td>1</td>\n",
       "      <td>1</td>\n",
       "      <td>3</td>\n",
       "      <td>2</td>\n",
       "      <td>1.0</td>\n",
       "      <td>3</td>\n",
       "      <td>1</td>\n",
       "      <td>1</td>\n",
       "    </tr>\n",
       "  </tbody>\n",
       "</table>\n",
       "</div>"
      ],
      "text/plain": [
       "   thickness  size  shape  adhesion  epithelial  nuclei  chromatin  nucleoli  \\\n",
       "0          5     1      1         1           2     1.0          3         1   \n",
       "1          5     4      4         5           7    10.0          3         2   \n",
       "2          3     1      1         1           2     2.0          3         1   \n",
       "3          6     8      8         1           3     4.0          3         7   \n",
       "4          4     1      1         3           2     1.0          3         1   \n",
       "\n",
       "   mitoses  \n",
       "0        1  \n",
       "1        1  \n",
       "2        1  \n",
       "3        1  \n",
       "4        1  "
      ]
     },
     "execution_count": 5,
     "metadata": {},
     "output_type": "execute_result"
    }
   ],
   "source": [
    "data.head()"
   ]
  },
  {
   "cell_type": "code",
   "execution_count": 6,
   "metadata": {},
   "outputs": [
    {
     "name": "stdout",
     "output_type": "stream",
     "text": [
      "('Before transform:',    thickness  size  shape  adhesion  epithelial  nuclei  chromatin  nucleoli  \\\n",
      "0          5     1      1         1           2     1.0          3         1   \n",
      "\n",
      "   mitoses  \n",
      "0        1  , thickness       int64\n",
      "size            int64\n",
      "shape           int64\n",
      "adhesion        int64\n",
      "epithelial      int64\n",
      "nuclei        float64\n",
      "chromatin       int64\n",
      "nucleoli        int64\n",
      "mitoses         int64\n",
      "dtype: object, (699, 9))\n",
      "('After transform:', (699, 9))\n"
     ]
    }
   ],
   "source": [
    "print ('Before transform:', data.head(1), data.dtypes, data.shape)\n",
    "#none - 0.959999999\n",
    "#7-0.95428571428571429\n",
    "#data = preprocessing.MaxAbsScaler().fit_transform(data)\n",
    "#15-0.95428571428571429 9-0.94857142857142862 7-0.95428571428571429 1-0.93999999999999995\n",
    "#data = preprocessing.MinMaxScaler().fit_transform(data)\n",
    "#7-0.95428571428571429\n",
    "#data = preprocessing.StandardScaler().fit_transform(data)\n",
    "#7-0.83142857142857141\n",
    "#data = preprocessing.Normalizer().fit_transform(data)\n",
    "#\n",
    "data = preprocessing.RobustScaler().fit_transform(data)\n",
    "#data = pd.DataFrame(data,columns=['thickness', 'size', 'shape', 'adhesion', 'epithelial', 'nuclei', 'chromatin', 'nucleoli', 'mitoses'])\n",
    "print ('After transform:', data.shape)\n",
    "\n",
    "data_train, data_test, label_train, label_test = train_test_split(data,label,test_size = 0.5, random_state=7)"
   ]
  },
  {
   "cell_type": "markdown",
   "metadata": {},
   "source": [
    "Do train_test_split. Use the same variable names as on the EdX platform in the reading material, but set the random_state=7 for reproducibility, and keep the test_size at 0.5 (50%)."
   ]
  },
  {
   "cell_type": "markdown",
   "metadata": {},
   "source": [
    "Experiment with the basic SKLearn preprocessing scalers. We know that the features consist of different units mixed in together, so it might be reasonable to assume feature scaling is necessary. Print out a description of the dataset, post transformation. Recall: when you do pre-processing, which portion of the dataset is your model trained upon? Also which portion(s) of your dataset actually get transformed?"
   ]
  },
  {
   "cell_type": "code",
   "execution_count": 7,
   "metadata": {},
   "outputs": [
    {
     "name": "stdout",
     "output_type": "stream",
     "text": [
      "((349, 9), (349,))\n"
     ]
    }
   ],
   "source": [
    "print (data_train.shape,label_train.shape)"
   ]
  },
  {
   "cell_type": "markdown",
   "metadata": {},
   "source": [
    "### Dimensionality Reduction"
   ]
  },
  {
   "cell_type": "markdown",
   "metadata": {},
   "source": [
    "PCA and Isomap are your new best friends"
   ]
  },
  {
   "cell_type": "code",
   "execution_count": 8,
   "metadata": {},
   "outputs": [
    {
     "name": "stdout",
     "output_type": "stream",
     "text": [
      "Computing 2D Isomap Manifold\n",
      "('ISOMap - data_train: ', (349, 2), ' data_test: ', (350, 2))\n"
     ]
    }
   ],
   "source": [
    "model = None\n",
    "# Leave this alone until indicated:\n",
    "Test_PCA = False\n",
    "\n",
    "if Test_PCA:\n",
    "    print('Computing 2D Principle Components')\n",
    "    # TODO: Implement PCA here. Save your model into the variable 'model'.\n",
    "    # You should reduce down to two dimensions.\n",
    "    \n",
    "    # .. your code here ..\n",
    "    model = PCA(n_components=2)\n",
    "    model.fit(data_train, label_train)\n",
    "    data_train = model.transform(data_train)\n",
    "    data_test = model.transform(data_test)\n",
    "    print ('PCA - data_train: ', data_train.shape, ' data_test: ', data_test.shape)\n",
    "    \n",
    "else:\n",
    "    print('Computing 2D Isomap Manifold')\n",
    "    # TODO: Implement Isomap here. Save your model into the variable 'model'\n",
    "    # Experiment with K values from 5-10.\n",
    "    # You should reduce down to two dimensions.\n",
    "\n",
    "    # .. your code here ..\n",
    "    model = manifold.Isomap(n_neighbors=5, n_components=2)\n",
    "    model.fit(data_train, label_train)\n",
    "    data_train = model.transform(data_train)\n",
    "    data_test = model.transform(data_test)\n",
    "    print ('ISOMap - data_train: ', data_train.shape, ' data_test: ', data_test.shape)"
   ]
  },
  {
   "cell_type": "markdown",
   "metadata": {},
   "source": [
    "Train your model against data_train, then transform both `data_train` and `data_test` using your model. You can save the results right back into the variables themselves."
   ]
  },
  {
   "cell_type": "code",
   "execution_count": 9,
   "metadata": {
    "collapsed": true
   },
   "outputs": [],
   "source": [
    "# .. your code here .."
   ]
  },
  {
   "cell_type": "markdown",
   "metadata": {},
   "source": [
    "Implement and train `KNeighborsClassifier` on your projected 2D training data here. You can name your variable `knmodel`. You can use any `K` value from 1 - 15, so play around with it and see what results you can come up. Your goal is to find a good balance where you aren't too specific (low-K), nor are you too general (high-K). You should also experiment with how changing the weights parameter affects the results."
   ]
  },
  {
   "cell_type": "code",
   "execution_count": 10,
   "metadata": {},
   "outputs": [
    {
     "data": {
      "text/plain": [
       "0.95428571428571429"
      ]
     },
     "execution_count": 10,
     "metadata": {},
     "output_type": "execute_result"
    }
   ],
   "source": [
    "# .. your code here ..\n",
    "knn = KNeighborsClassifier(n_neighbors=7)\n",
    "knn.fit(data_train, label_train)\n",
    "knn.score(data_test, label_test)"
   ]
  },
  {
   "cell_type": "markdown",
   "metadata": {},
   "source": [
    "Be sure to always keep the domain of the problem in mind! It's WAY more important to errantly classify a benign tumor as malignant, and have it removed, than to incorrectly leave a malignant tumor, believing it to be benign, and then having the patient progress in cancer. Since the UDF weights don't give you any class information, the only way to introduce this data into SKLearn's KNN Classifier is by \"baking\" it into your data. For example, randomly reducing the ratio of benign samples compared to malignant samples from the training set."
   ]
  },
  {
   "cell_type": "markdown",
   "metadata": {
    "collapsed": true
   },
   "source": [
    "Calculate and display the accuracy of the testing set:"
   ]
  },
  {
   "cell_type": "code",
   "execution_count": 11,
   "metadata": {
    "collapsed": true
   },
   "outputs": [],
   "source": [
    "# .. your code changes above .."
   ]
  },
  {
   "cell_type": "code",
   "execution_count": 12,
   "metadata": {},
   "outputs": [
    {
     "name": "stdout",
     "output_type": "stream",
     "text": [
      "Plotting...\n"
     ]
    },
    {
     "data": {
      "image/png": "[encoded data removed]",
      "text/plain": [
       "<matplotlib.figure.Figure at 0x114bdd8d0>"
      ]
     },
     "metadata": {},
     "output_type": "display_data"
    }
   ],
   "source": [
    "plotDecisionBoundary(knn, data_test, label_test)"
   ]
  },
  {
   "cell_type": "code",
   "execution_count": 31,
   "metadata": {},
   "outputs": [
    {
     "name": "stdout",
     "output_type": "stream",
     "text": [
      "Computing 2D Isomap Manifold\n",
      "('ISOMap - data_train: ', (349, 2), ' data_test: ', (350, 2))\n",
      "0.905714285714\n",
      "Plotting...\n"
     ]
    },
    {
     "data": {
      "image/png": "[encoded data removed]",
      "text/plain": [
       "<matplotlib.figure.Figure at 0x1179ee390>"
      ]
     },
     "metadata": {},
     "output_type": "display_data"
    }
   ],
   "source": [
    "#none - 0.92\n",
    "#0.885714285714\n",
    "#data = preprocessing.MaxAbsScaler().fit_transform(data)\n",
    "#0.885714285714\n",
    "#data = preprocessing.MinMaxScaler().fit_transform(data)\n",
    "#0.854285714286\n",
    "#data = preprocessing.StandardScaler().fit_transform(data)\n",
    "#0.885714285714\n",
    "#data = preprocessing.Normalizer().fit_transform(data)\n",
    "#0.905714285714\n",
    "#data = preprocessing.RobustScaler().fit_transform(data)\n",
    "data_train, data_test, label_train, label_test = train_test_split(data,label,test_size = 0.5, random_state=7)\n",
    "model = None\n",
    "# Leave this alone until indicated:\n",
    "Test_PCA = False\n",
    "\n",
    "if Test_PCA:\n",
    "    print('Computing 2D Principle Components')\n",
    "    # TODO: Implement PCA here. Save your model into the variable 'model'.\n",
    "    # You should reduce down to two dimensions.\n",
    "    \n",
    "    # .. your code here ..\n",
    "    model = PCA(n_components=2)\n",
    "    model.fit(data_train, label_train)\n",
    "    data_train = model.transform(data_train)\n",
    "    data_test = model.transform(data_test)\n",
    "    print ('PCA - data_train: ', data_train.shape, ' data_test: ', data_test.shape)\n",
    "    \n",
    "else:\n",
    "    print('Computing 2D Isomap Manifold')\n",
    "    # TODO: Implement Isomap here. Save your model into the variable 'model'\n",
    "    # Experiment with K values from 5-10.\n",
    "    # You should reduce down to two dimensions.\n",
    "\n",
    "    # .. your code here ..\n",
    "    model = manifold.Isomap(n_neighbors=5, n_components=2)\n",
    "    model.fit(data_train, label_train)\n",
    "    data_train = model.transform(data_train)\n",
    "    data_test = model.transform(data_test)\n",
    "    print ('ISOMap - data_train: ', data_train.shape, ' data_test: ', data_test.shape)\n",
    "#knn = KNeighborsClassifier(n_neighbors=7,weights='distance')\n",
    "knn = KNeighborsClassifier(n_neighbors=7,weights='uniform')\n",
    "knn.fit(data_train, label_train)\n",
    "print(knn.score(data_test, label_test))\n",
    "plotDecisionBoundary(knn, data_test, label_test)"
   ]
  }
 ],
 "metadata": {
  "anaconda-cloud": {},
  "kernelspec": {
   "display_name": "Python 2",
   "language": "python",
   "name": "python2"
  },
  "language_info": {
   "codemirror_mode": {
    "name": "ipython",
    "version": 2
   },
   "file_extension": ".py",
   "mimetype": "text/x-python",
   "name": "python",
   "nbconvert_exporter": "python",
   "pygments_lexer": "ipython2",
   "version": "2.7.13"
  },
  "toc": {
   "colors": {
    "hover_highlight": "#DAA520",
    "running_highlight": "#FF0000",
    "selected_highlight": "#FFD700"
   },
   "moveMenuLeft": true,
   "nav_menu": {
    "height": "58px",
    "width": "252px"
   },
   "navigate_menu": true,
   "number_sections": true,
   "sideBar": true,
   "threshold": 4,
   "toc_cell": false,
   "toc_section_display": "block",
   "toc_window_display": false,
   "widenNotebook": false
  }
 },
 "nbformat": 4,
 "nbformat_minor": 2
}
